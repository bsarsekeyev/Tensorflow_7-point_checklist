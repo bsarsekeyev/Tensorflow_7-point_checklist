{
 "metadata": {
  "language_info": {
   "codemirror_mode": {
    "name": "ipython",
    "version": 3
   },
   "file_extension": ".py",
   "mimetype": "text/x-python",
   "name": "python",
   "nbconvert_exporter": "python",
   "pygments_lexer": "ipython3",
   "version": "3.8.2-final"
  },
  "orig_nbformat": 2,
  "kernelspec": {
   "name": "python38364bitbaseconda26b5453f368d4a76a71f4787d8a80f55",
   "display_name": "Python 3.8.3 64-bit ('base': conda)",
   "language": "python"
  }
 },
 "nbformat": 4,
 "nbformat_minor": 2,
 "cells": [
  {
   "cell_type": "code",
   "execution_count": null,
   "metadata": {},
   "outputs": [],
   "source": [
    "import pandas as pd\n",
    "import numpy as np\n",
    "import glob\n",
    "import shutil\n",
    "import os\n",
    "from sklearn import linear_model\n",
    "from sklearn.ensemble import RandomForestRegressor\n",
    "from sklearn.metrics import mean_squared_error, r2_score\n"
   ]
  },
  {
   "cell_type": "code",
   "execution_count": null,
   "metadata": {},
   "outputs": [],
   "source": [
    "val_src_path = \"dataset/7-points/Validation_outputs_from_7-networks_features/ResNet/\"\n",
    "meta_path =  \"dataset/7-points/\""
   ]
  },
  {
   "cell_type": "code",
   "execution_count": null,
   "metadata": {},
   "outputs": [],
   "source": [
    "meta_val = pd.read_csv(meta_path+\"meta.csv\", sep=\",\")\n",
    "meta_val = meta_val[['case_num','seven_point_score']]\n",
    "\n",
    "val_index_cv = pd.read_csv(meta_path+\"valid_indexes.csv\", sep=\",\")\n",
    "val_index_ = val_index_cv.values\n",
    "\n",
    "indices_val = []\n",
    "\n",
    "for i in range(val_index_.shape[0]):\n",
    "\tindices_val.append(val_index_[i,0])\n",
    "\t\t\n",
    "meta_val = meta_val.loc[indices_val]\n",
    "\n",
    "val_data = meta_val.values\n",
    "\n",
    "y_train = val_data[:,1]\n",
    "print(y_train.shape)"
   ]
  },
  {
   "cell_type": "code",
   "execution_count": null,
   "metadata": {},
   "outputs": [],
   "source": [
    "meta_test = pd.read_csv(meta_path+\"meta.csv\", sep=\",\")\n",
    "meta_test = meta_test[['case_num','seven_point_score']]\n",
    "\n",
    "test_index_cv = pd.read_csv(meta_path+\"test_indexes.csv\", sep=\",\")\n",
    "test_index_ = test_index_cv.values\n",
    "\n",
    "indices_test = []\n",
    "\n",
    "for i in range(test_index_.shape[0]):\n",
    "\tindices_test.append(test_index_[i,0])\n",
    "\t\n",
    "meta_test = meta_test.loc[indices_test]\n",
    "test_data = meta_test.values\n",
    "\n",
    "y_test = test_data[:,1]\n",
    "print(y_test.shape)\n"
   ]
  },
  {
   "cell_type": "code",
   "execution_count": null,
   "metadata": {},
   "outputs": [],
   "source": [
    "df_c1_val = pd.read_csv(val_src_path+\"point-1_resnet_val_features.csv\", sep=\",\", header=None)\n",
    "df_c2_val = pd.read_csv(val_src_path+\"point-2_resnet_val_features.csv\", sep=\",\", header=None)\n",
    "df_c3_val = pd.read_csv(val_src_path+\"point-3_resnet_val_features.csv\", sep=\",\", header=None)\n",
    "df_c4_val = pd.read_csv(val_src_path+\"point-4_resnet_val_features.csv\", sep=\",\", header=None)\n",
    "df_c5_val = pd.read_csv(val_src_path+\"point-5_resnet_val_features.csv\", sep=\",\", header=None)\n",
    "df_c6_val = pd.read_csv(val_src_path+\"point-6_resnet_val_features.csv\", sep=\",\", header=None)\n",
    "df_c7_val = pd.read_csv(val_src_path+\"point-7_resnet_val_features.csv\", sep=\",\", header=None)\n",
    "\n",
    "\n",
    "data_val= pd.concat([df_c1_val,df_c2_val,df_c3_val,df_c4_val,df_c5_val,df_c6_val,df_c7_val],axis = 1)\n",
    "print(data_val)\n",
    "\n",
    "X_train = data_val.values\n",
    "print(X_train.shape)"
   ]
  },
  {
   "cell_type": "code",
   "execution_count": null,
   "metadata": {},
   "outputs": [],
   "source": [
    "test_src_path = \"dataset/7-points/Testing_outputs_from_7-network_features/ResNet/\""
   ]
  },
  {
   "cell_type": "code",
   "execution_count": null,
   "metadata": {},
   "outputs": [],
   "source": [
    "df_c1_test = pd.read_csv(test_src_path+\"point-1_resnet_test_features.csv\", sep=\",\", header=None)\n",
    "df_c2_test = pd.read_csv(test_src_path+\"point-2_resnet_test_features.csv\", sep=\",\", header=None)\n",
    "df_c3_test = pd.read_csv(test_src_path+\"point-3_resnet_test_features.csv\", sep=\",\", header=None)\n",
    "df_c4_test = pd.read_csv(test_src_path+\"point-4_resnet_test_features.csv\", sep=\",\", header=None)\n",
    "df_c5_test = pd.read_csv(test_src_path+\"point-5_resnet_test_features.csv\", sep=\",\", header=None)\n",
    "df_c6_test = pd.read_csv(test_src_path+\"point-6_resnet_test_features.csv\", sep=\",\", header=None)\n",
    "df_c7_test = pd.read_csv(test_src_path+\"point-7_resnet_test_features.csv\", sep=\",\", header=None)\n",
    "\n",
    "data_test= pd.concat([df_c1_test,df_c2_test,df_c3_test,df_c4_test,df_c5_test,df_c6_test,df_c7_test],axis = 1)\n",
    "print(data_test)\n",
    "\n",
    "X_test = data_test.values\n",
    "\n",
    "print(X_test.shape)\n"
   ]
  },
  {
   "cell_type": "code",
   "execution_count": null,
   "metadata": {},
   "outputs": [],
   "source": [
    "clf = RandomForestRegressor()\n",
    "clf.fit(X_train,y_train)\n",
    "y_pred = clf.predict(X_test)\n",
    "\n"
   ]
  },
  {
   "cell_type": "code",
   "execution_count": null,
   "metadata": {},
   "outputs": [],
   "source": [
    "# The mean squared error\n",
    "print('Mean squared error: %.2f'\n",
    "      % mean_squared_error(y_test, y_pred))"
   ]
  },
  {
   "cell_type": "code",
   "execution_count": null,
   "metadata": {},
   "outputs": [],
   "source": [
    "lr = linear_model.LinearRegression(normalize=True)\n",
    "lr.fit(X_train,y_train)\n",
    "y_pred = lr.predict(X_test)\n"
   ]
  },
  {
   "cell_type": "code",
   "execution_count": null,
   "metadata": {},
   "outputs": [],
   "source": [
    "print('Coefficients: \\n', lr.coef_)"
   ]
  },
  {
   "cell_type": "code",
   "execution_count": null,
   "metadata": {},
   "outputs": [],
   "source": [
    "# The mean squared error\n",
    "print('Mean squared error: %.2f'\n",
    "      % mean_squared_error(y_test, y_pred))"
   ]
  },
  {
   "cell_type": "code",
   "execution_count": null,
   "metadata": {},
   "outputs": [],
   "source": [
    "# The coefficient of determination: 1 is perfect prediction\n",
    "print('Coefficient of determination: %.2f'\n",
    "      % r2_score(y_test, y_pred))"
   ]
  },
  {
   "cell_type": "code",
   "execution_count": null,
   "metadata": {},
   "outputs": [],
   "source": [
    "print(y_pred)\n",
    "print(y_test.round())"
   ]
  },
  {
   "cell_type": "code",
   "execution_count": null,
   "metadata": {},
   "outputs": [],
   "source": [
    "print(lr.score(X_test, y_test))"
   ]
  },
  {
   "cell_type": "code",
   "execution_count": null,
   "metadata": {},
   "outputs": [],
   "source": []
  }
 ]
}