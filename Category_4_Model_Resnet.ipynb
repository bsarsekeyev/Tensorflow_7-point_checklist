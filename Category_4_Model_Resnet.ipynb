{
 "metadata": {
  "language_info": {
   "codemirror_mode": {
    "name": "ipython",
    "version": 3
   },
   "file_extension": ".py",
   "mimetype": "text/x-python",
   "name": "python",
   "nbconvert_exporter": "python",
   "pygments_lexer": "ipython3",
   "version": "3.8.2-final"
  },
  "orig_nbformat": 2,
  "kernelspec": {
   "name": "python38364bitbaseconda26b5453f368d4a76a71f4787d8a80f55",
   "display_name": "Python 3.8.3 64-bit ('base': conda)",
   "language": "python"
  }
 },
 "nbformat": 4,
 "nbformat_minor": 2,
 "cells": [
  {
   "cell_type": "code",
   "execution_count": 1,
   "metadata": {},
   "outputs": [],
   "source": [
    "import tensorflow as tf\n",
    "from tensorflow.keras.preprocessing.image import ImageDataGenerator\n",
    "from tensorflow.keras.callbacks import LearningRateScheduler\n",
    "from tensorflow.keras.optimizers import SGD, Adam \n",
    "from model.resnet import ResNet\n",
    "from utils.data_config import Config_Cat_4\n",
    "from sklearn.metrics import classification_report\n",
    "from imutils import paths\n",
    "import matplotlib.pyplot as plt\n",
    "import numpy as np\n",
    "import argparse\n",
    "from tensorflow.keras.models import Sequential, Model\n",
    "\n",
    "data_config = Config_Cat_4()"
   ]
  },
  {
   "cell_type": "code",
   "execution_count": 2,
   "metadata": {},
   "outputs": [
    {
     "output_type": "stream",
     "name": "stdout",
     "text": [
      "Name: /physical_device:GPU:0   Type: GPU\n"
     ]
    }
   ],
   "source": [
    "physical_devices = tf.config.experimental.list_physical_devices('GPU')\n",
    "assert len(physical_devices) > 0, \"Not enough GPU hardware devices available\"\n",
    "config = tf.config.experimental.set_memory_growth(physical_devices[0], True)\n",
    "\n",
    "for gpu in physical_devices:\n",
    "    print(\"Name:\", gpu.name, \"  Type:\", gpu.device_type)"
   ]
  },
  {
   "cell_type": "code",
   "execution_count": 3,
   "metadata": {},
   "outputs": [],
   "source": [
    "# define the total number of epochs to train for along with the\n",
    "# initial learning rate and batch size\n",
    "NUM_EPOCHS = 20\n",
    "INIT_LR = 1e-1\n",
    "BS = 32"
   ]
  },
  {
   "cell_type": "code",
   "execution_count": 4,
   "metadata": {},
   "outputs": [],
   "source": [
    "def poly_decay(epoch):\n",
    "\t# initialize the maximum number of epochs, base learning rate,\n",
    "\t# and power of the polynomial\n",
    "\tmaxEpochs = NUM_EPOCHS\n",
    "\tbaseLR = INIT_LR\n",
    "\tpower = 1.0\n",
    "\n",
    "\t# compute the new learning rate based on polynomial decay\n",
    "\talpha = baseLR * (1 - (epoch / float(maxEpochs))) ** power\n",
    "\n",
    "\t# return the new learning rate\n",
    "\treturn alpha"
   ]
  },
  {
   "cell_type": "code",
   "execution_count": 5,
   "metadata": {},
   "outputs": [],
   "source": [
    "# determine the total number of image paths in training, validation,\n",
    "# and testing directories\n",
    "totalTrain = len(list(paths.list_images(data_config.training_path)))\n",
    "totalVal = len(list(paths.list_images(data_config.val_path)))\n",
    "totalTest = len(list(paths.list_images(data_config.test_path)))"
   ]
  },
  {
   "cell_type": "code",
   "execution_count": 6,
   "metadata": {},
   "outputs": [],
   "source": [
    "trainAug = ImageDataGenerator(\n",
    "\trescale=1 / 255.0,\n",
    "\trotation_range=20,\n",
    "\tzoom_range=0.05,\n",
    "\twidth_shift_range=0.05,\n",
    "\theight_shift_range=0.05,\n",
    "\tshear_range=0.05,\n",
    "\thorizontal_flip=True,\n",
    "\tfill_mode=\"nearest\")"
   ]
  },
  {
   "cell_type": "code",
   "execution_count": 7,
   "metadata": {},
   "outputs": [],
   "source": [
    "valAug = ImageDataGenerator(rescale=1 / 255.0)"
   ]
  },
  {
   "cell_type": "code",
   "execution_count": 8,
   "metadata": {},
   "outputs": [
    {
     "output_type": "stream",
     "name": "stdout",
     "text": [
      "Found 412 images belonging to 2 classes.\nFound 203 images belonging to 2 classes.\n"
     ]
    }
   ],
   "source": [
    "# initialize the training generator\n",
    "trainGen = trainAug.flow_from_directory(\n",
    "\tdata_config.training_path,\n",
    "\tclass_mode=\"binary\",\n",
    "\ttarget_size=(64, 64),\n",
    "\tcolor_mode=\"rgb\",\n",
    "\tshuffle=True,\n",
    "\tbatch_size=BS)\n",
    "\n",
    "# initialize the validation generator\n",
    "valGen = valAug.flow_from_directory(\n",
    "\tdata_config.val_path,\n",
    "\tclass_mode=\"binary\",\n",
    "\ttarget_size=(64, 64),\n",
    "\tcolor_mode=\"rgb\",\n",
    "\tshuffle=False,\n",
    "\tbatch_size=BS)"
   ]
  },
  {
   "cell_type": "code",
   "execution_count": 9,
   "metadata": {},
   "outputs": [
    {
     "output_type": "stream",
     "name": "stdout",
     "text": [
      "Found 395 images belonging to 2 classes.\n"
     ]
    }
   ],
   "source": [
    "# initialize the testing generator\n",
    "testGen = valAug.flow_from_directory(\n",
    "\tdata_config.test_path,\n",
    "\tclass_mode=\"binary\",\n",
    "\ttarget_size=(64, 64),\n",
    "\tcolor_mode=\"rgb\",\n",
    "\tshuffle=False,\n",
    "\tbatch_size=BS)"
   ]
  },
  {
   "cell_type": "code",
   "execution_count": null,
   "metadata": {},
   "outputs": [],
   "source": [
    "# initialize our ResNet model and compile it\n",
    "model = ResNet.build(64, 64, 3, 2, (3, 4, 6), (64, 128, 256, 512), reg=0.0005)\n",
    "opt = SGD(lr=INIT_LR, momentum=0.9)\n",
    "model.compile(loss=\"binary_crossentropy\", optimizer=opt, metrics=[\"accuracy\"])\n",
    "model.reset_metrics()"
   ]
  },
  {
   "cell_type": "code",
   "execution_count": null,
   "metadata": {},
   "outputs": [],
   "source": [
    "# define our set of callbacks and fit the model\n",
    "callbacks = [LearningRateScheduler(poly_decay)]\n",
    "H = model.fit(\n",
    "\ttrainGen,\n",
    "\tsteps_per_epoch=totalTrain // BS,\n",
    "\tvalidation_data=valGen,\n",
    "\tvalidation_steps=totalVal // BS,\n",
    "\tepochs=NUM_EPOCHS,\n",
    "\tcallbacks=callbacks)"
   ]
  },
  {
   "cell_type": "code",
   "execution_count": null,
   "metadata": {},
   "outputs": [],
   "source": [
    "# reset the testing generator and then use our trained model to\n",
    "# make predictions on the data\n",
    "model.save('ResNet_Category4_model.h5')\n",
    "\n",
    "print(\"[INFO] evaluating network...\")\n",
    "testGen.reset()\n",
    "predIdxs = model.predict(testGen, steps=(totalTest // BS) + 1)\n",
    " \n",
    "# for each image in the testing set we need to find the index of the\n",
    "# label with corresponding largest predicted probability\n",
    "predIdxs = np.where(predIdxs>0.5,1,0)\n",
    "print()\n",
    "\n",
    "# show a nicely formatted classification report\n",
    "print(classification_report(testGen.classes, predIdxs, target_names=testGen.class_indices.keys()))\n",
    "\n",
    "# plot the training loss and accuracy\n",
    "N = NUM_EPOCHS\n",
    "plt.style.use(\"ggplot\")\n",
    "plt.figure()\n",
    "plt.plot(np.arange(0, N), H.history[\"loss\"], label=\"train_loss\")\n",
    "plt.plot(np.arange(0, N), H.history[\"val_loss\"], label=\"val_loss\")\n",
    "plt.plot(np.arange(0, N), H.history[\"accuracy\"], label=\"train_accuracy\")\n",
    "plt.plot(np.arange(0, N), H.history[\"val_accuracy\"], label=\"val_accuracy\")\n",
    "plt.title(\"Training Loss and Accuracy on Dataset\")\n",
    "plt.xlabel(\"Epoch #\")\n",
    "plt.ylabel(\"Loss/Accuracy\")\n",
    "plt.legend(loc=\"lower left\")\n",
    "plt.savefig(\"plot_category4_resnet\")"
   ]
  },
  {
   "cell_type": "code",
   "execution_count": 10,
   "metadata": {},
   "outputs": [
    {
     "output_type": "stream",
     "name": "stdout",
     "text": [
      "Model: \"model\"\n__________________________________________________________________________________________________\nLayer (type)                    Output Shape         Param #     Connected to                     \n==================================================================================================\ninput_1 (InputLayer)            [(None, 64, 64, 3)]  0                                            \n__________________________________________________________________________________________________\nbatch_normalization (BatchNorma (None, 64, 64, 3)    12          input_1[0][0]                    \n__________________________________________________________________________________________________\nconv2d (Conv2D)                 (None, 64, 64, 64)   4800        batch_normalization[0][0]        \n__________________________________________________________________________________________________\nbatch_normalization_1 (BatchNor (None, 64, 64, 64)   256         conv2d[0][0]                     \n__________________________________________________________________________________________________\nactivation (Activation)         (None, 64, 64, 64)   0           batch_normalization_1[0][0]      \n__________________________________________________________________________________________________\nzero_padding2d (ZeroPadding2D)  (None, 66, 66, 64)   0           activation[0][0]                 \n__________________________________________________________________________________________________\nmax_pooling2d (MaxPooling2D)    (None, 32, 32, 64)   0           zero_padding2d[0][0]             \n__________________________________________________________________________________________________\nbatch_normalization_2 (BatchNor (None, 32, 32, 64)   256         max_pooling2d[0][0]              \n__________________________________________________________________________________________________\nactivation_1 (Activation)       (None, 32, 32, 64)   0           batch_normalization_2[0][0]      \n__________________________________________________________________________________________________\nconv2d_1 (Conv2D)               (None, 32, 32, 32)   2048        activation_1[0][0]               \n__________________________________________________________________________________________________\nbatch_normalization_3 (BatchNor (None, 32, 32, 32)   128         conv2d_1[0][0]                   \n__________________________________________________________________________________________________\nactivation_2 (Activation)       (None, 32, 32, 32)   0           batch_normalization_3[0][0]      \n__________________________________________________________________________________________________\nconv2d_2 (Conv2D)               (None, 32, 32, 32)   9216        activation_2[0][0]               \n__________________________________________________________________________________________________\nbatch_normalization_4 (BatchNor (None, 32, 32, 32)   128         conv2d_2[0][0]                   \n__________________________________________________________________________________________________\nactivation_3 (Activation)       (None, 32, 32, 32)   0           batch_normalization_4[0][0]      \n__________________________________________________________________________________________________\nconv2d_3 (Conv2D)               (None, 32, 32, 128)  4096        activation_3[0][0]               \n__________________________________________________________________________________________________\nconv2d_4 (Conv2D)               (None, 32, 32, 128)  8192        activation_1[0][0]               \n__________________________________________________________________________________________________\nadd (Add)                       (None, 32, 32, 128)  0           conv2d_3[0][0]                   \n                                                                 conv2d_4[0][0]                   \n__________________________________________________________________________________________________\nbatch_normalization_5 (BatchNor (None, 32, 32, 128)  512         add[0][0]                        \n__________________________________________________________________________________________________\nactivation_4 (Activation)       (None, 32, 32, 128)  0           batch_normalization_5[0][0]      \n__________________________________________________________________________________________________\nconv2d_5 (Conv2D)               (None, 32, 32, 32)   4096        activation_4[0][0]               \n__________________________________________________________________________________________________\nbatch_normalization_6 (BatchNor (None, 32, 32, 32)   128         conv2d_5[0][0]                   \n__________________________________________________________________________________________________\nactivation_5 (Activation)       (None, 32, 32, 32)   0           batch_normalization_6[0][0]      \n__________________________________________________________________________________________________\nconv2d_6 (Conv2D)               (None, 32, 32, 32)   9216        activation_5[0][0]               \n__________________________________________________________________________________________________\nbatch_normalization_7 (BatchNor (None, 32, 32, 32)   128         conv2d_6[0][0]                   \n__________________________________________________________________________________________________\nactivation_6 (Activation)       (None, 32, 32, 32)   0           batch_normalization_7[0][0]      \n__________________________________________________________________________________________________\nconv2d_7 (Conv2D)               (None, 32, 32, 128)  4096        activation_6[0][0]               \n__________________________________________________________________________________________________\nadd_1 (Add)                     (None, 32, 32, 128)  0           conv2d_7[0][0]                   \n                                                                 add[0][0]                        \n__________________________________________________________________________________________________\nbatch_normalization_8 (BatchNor (None, 32, 32, 128)  512         add_1[0][0]                      \n__________________________________________________________________________________________________\nactivation_7 (Activation)       (None, 32, 32, 128)  0           batch_normalization_8[0][0]      \n__________________________________________________________________________________________________\nconv2d_8 (Conv2D)               (None, 32, 32, 32)   4096        activation_7[0][0]               \n__________________________________________________________________________________________________\nbatch_normalization_9 (BatchNor (None, 32, 32, 32)   128         conv2d_8[0][0]                   \n__________________________________________________________________________________________________\nactivation_8 (Activation)       (None, 32, 32, 32)   0           batch_normalization_9[0][0]      \n__________________________________________________________________________________________________\nconv2d_9 (Conv2D)               (None, 32, 32, 32)   9216        activation_8[0][0]               \n__________________________________________________________________________________________________\nbatch_normalization_10 (BatchNo (None, 32, 32, 32)   128         conv2d_9[0][0]                   \n__________________________________________________________________________________________________\nactivation_9 (Activation)       (None, 32, 32, 32)   0           batch_normalization_10[0][0]     \n__________________________________________________________________________________________________\nconv2d_10 (Conv2D)              (None, 32, 32, 128)  4096        activation_9[0][0]               \n__________________________________________________________________________________________________\nadd_2 (Add)                     (None, 32, 32, 128)  0           conv2d_10[0][0]                  \n                                                                 add_1[0][0]                      \n__________________________________________________________________________________________________\nbatch_normalization_11 (BatchNo (None, 32, 32, 128)  512         add_2[0][0]                      \n__________________________________________________________________________________________________\nactivation_10 (Activation)      (None, 32, 32, 128)  0           batch_normalization_11[0][0]     \n__________________________________________________________________________________________________\nconv2d_11 (Conv2D)              (None, 32, 32, 64)   8192        activation_10[0][0]              \n__________________________________________________________________________________________________\nbatch_normalization_12 (BatchNo (None, 32, 32, 64)   256         conv2d_11[0][0]                  \n__________________________________________________________________________________________________\nactivation_11 (Activation)      (None, 32, 32, 64)   0           batch_normalization_12[0][0]     \n__________________________________________________________________________________________________\nconv2d_12 (Conv2D)              (None, 16, 16, 64)   36864       activation_11[0][0]              \n__________________________________________________________________________________________________\nbatch_normalization_13 (BatchNo (None, 16, 16, 64)   256         conv2d_12[0][0]                  \n__________________________________________________________________________________________________\nactivation_12 (Activation)      (None, 16, 16, 64)   0           batch_normalization_13[0][0]     \n__________________________________________________________________________________________________\nconv2d_13 (Conv2D)              (None, 16, 16, 256)  16384       activation_12[0][0]              \n__________________________________________________________________________________________________\nconv2d_14 (Conv2D)              (None, 16, 16, 256)  32768       activation_10[0][0]              \n__________________________________________________________________________________________________\nadd_3 (Add)                     (None, 16, 16, 256)  0           conv2d_13[0][0]                  \n                                                                 conv2d_14[0][0]                  \n__________________________________________________________________________________________________\nbatch_normalization_14 (BatchNo (None, 16, 16, 256)  1024        add_3[0][0]                      \n__________________________________________________________________________________________________\nactivation_13 (Activation)      (None, 16, 16, 256)  0           batch_normalization_14[0][0]     \n__________________________________________________________________________________________________\nconv2d_15 (Conv2D)              (None, 16, 16, 64)   16384       activation_13[0][0]              \n__________________________________________________________________________________________________\nbatch_normalization_15 (BatchNo (None, 16, 16, 64)   256         conv2d_15[0][0]                  \n__________________________________________________________________________________________________\nactivation_14 (Activation)      (None, 16, 16, 64)   0           batch_normalization_15[0][0]     \n__________________________________________________________________________________________________\nconv2d_16 (Conv2D)              (None, 16, 16, 64)   36864       activation_14[0][0]              \n__________________________________________________________________________________________________\nbatch_normalization_16 (BatchNo (None, 16, 16, 64)   256         conv2d_16[0][0]                  \n__________________________________________________________________________________________________\nactivation_15 (Activation)      (None, 16, 16, 64)   0           batch_normalization_16[0][0]     \n__________________________________________________________________________________________________\nconv2d_17 (Conv2D)              (None, 16, 16, 256)  16384       activation_15[0][0]              \n__________________________________________________________________________________________________\nadd_4 (Add)                     (None, 16, 16, 256)  0           conv2d_17[0][0]                  \n                                                                 add_3[0][0]                      \n__________________________________________________________________________________________________\nbatch_normalization_17 (BatchNo (None, 16, 16, 256)  1024        add_4[0][0]                      \n__________________________________________________________________________________________________\nactivation_16 (Activation)      (None, 16, 16, 256)  0           batch_normalization_17[0][0]     \n__________________________________________________________________________________________________\nconv2d_18 (Conv2D)              (None, 16, 16, 64)   16384       activation_16[0][0]              \n__________________________________________________________________________________________________\nbatch_normalization_18 (BatchNo (None, 16, 16, 64)   256         conv2d_18[0][0]                  \n__________________________________________________________________________________________________\nactivation_17 (Activation)      (None, 16, 16, 64)   0           batch_normalization_18[0][0]     \n__________________________________________________________________________________________________\nconv2d_19 (Conv2D)              (None, 16, 16, 64)   36864       activation_17[0][0]              \n__________________________________________________________________________________________________\nbatch_normalization_19 (BatchNo (None, 16, 16, 64)   256         conv2d_19[0][0]                  \n__________________________________________________________________________________________________\nactivation_18 (Activation)      (None, 16, 16, 64)   0           batch_normalization_19[0][0]     \n__________________________________________________________________________________________________\nconv2d_20 (Conv2D)              (None, 16, 16, 256)  16384       activation_18[0][0]              \n__________________________________________________________________________________________________\nadd_5 (Add)                     (None, 16, 16, 256)  0           conv2d_20[0][0]                  \n                                                                 add_4[0][0]                      \n__________________________________________________________________________________________________\nbatch_normalization_20 (BatchNo (None, 16, 16, 256)  1024        add_5[0][0]                      \n__________________________________________________________________________________________________\nactivation_19 (Activation)      (None, 16, 16, 256)  0           batch_normalization_20[0][0]     \n__________________________________________________________________________________________________\nconv2d_21 (Conv2D)              (None, 16, 16, 64)   16384       activation_19[0][0]              \n__________________________________________________________________________________________________\nbatch_normalization_21 (BatchNo (None, 16, 16, 64)   256         conv2d_21[0][0]                  \n__________________________________________________________________________________________________\nactivation_20 (Activation)      (None, 16, 16, 64)   0           batch_normalization_21[0][0]     \n__________________________________________________________________________________________________\nconv2d_22 (Conv2D)              (None, 16, 16, 64)   36864       activation_20[0][0]              \n__________________________________________________________________________________________________\nbatch_normalization_22 (BatchNo (None, 16, 16, 64)   256         conv2d_22[0][0]                  \n__________________________________________________________________________________________________\nactivation_21 (Activation)      (None, 16, 16, 64)   0           batch_normalization_22[0][0]     \n__________________________________________________________________________________________________\nconv2d_23 (Conv2D)              (None, 16, 16, 256)  16384       activation_21[0][0]              \n__________________________________________________________________________________________________\nadd_6 (Add)                     (None, 16, 16, 256)  0           conv2d_23[0][0]                  \n                                                                 add_5[0][0]                      \n__________________________________________________________________________________________________\nbatch_normalization_23 (BatchNo (None, 16, 16, 256)  1024        add_6[0][0]                      \n__________________________________________________________________________________________________\nactivation_22 (Activation)      (None, 16, 16, 256)  0           batch_normalization_23[0][0]     \n__________________________________________________________________________________________________\nconv2d_24 (Conv2D)              (None, 16, 16, 128)  32768       activation_22[0][0]              \n__________________________________________________________________________________________________\nbatch_normalization_24 (BatchNo (None, 16, 16, 128)  512         conv2d_24[0][0]                  \n__________________________________________________________________________________________________\nactivation_23 (Activation)      (None, 16, 16, 128)  0           batch_normalization_24[0][0]     \n__________________________________________________________________________________________________\nconv2d_25 (Conv2D)              (None, 8, 8, 128)    147456      activation_23[0][0]              \n__________________________________________________________________________________________________\nbatch_normalization_25 (BatchNo (None, 8, 8, 128)    512         conv2d_25[0][0]                  \n__________________________________________________________________________________________________\nactivation_24 (Activation)      (None, 8, 8, 128)    0           batch_normalization_25[0][0]     \n__________________________________________________________________________________________________\nconv2d_26 (Conv2D)              (None, 8, 8, 512)    65536       activation_24[0][0]              \n__________________________________________________________________________________________________\nconv2d_27 (Conv2D)              (None, 8, 8, 512)    131072      activation_22[0][0]              \n__________________________________________________________________________________________________\nadd_7 (Add)                     (None, 8, 8, 512)    0           conv2d_26[0][0]                  \n                                                                 conv2d_27[0][0]                  \n__________________________________________________________________________________________________\nbatch_normalization_26 (BatchNo (None, 8, 8, 512)    2048        add_7[0][0]                      \n__________________________________________________________________________________________________\nactivation_25 (Activation)      (None, 8, 8, 512)    0           batch_normalization_26[0][0]     \n__________________________________________________________________________________________________\nconv2d_28 (Conv2D)              (None, 8, 8, 128)    65536       activation_25[0][0]              \n__________________________________________________________________________________________________\nbatch_normalization_27 (BatchNo (None, 8, 8, 128)    512         conv2d_28[0][0]                  \n__________________________________________________________________________________________________\nactivation_26 (Activation)      (None, 8, 8, 128)    0           batch_normalization_27[0][0]     \n__________________________________________________________________________________________________\nconv2d_29 (Conv2D)              (None, 8, 8, 128)    147456      activation_26[0][0]              \n__________________________________________________________________________________________________\nbatch_normalization_28 (BatchNo (None, 8, 8, 128)    512         conv2d_29[0][0]                  \n__________________________________________________________________________________________________\nactivation_27 (Activation)      (None, 8, 8, 128)    0           batch_normalization_28[0][0]     \n__________________________________________________________________________________________________\nconv2d_30 (Conv2D)              (None, 8, 8, 512)    65536       activation_27[0][0]              \n__________________________________________________________________________________________________\nadd_8 (Add)                     (None, 8, 8, 512)    0           conv2d_30[0][0]                  \n                                                                 add_7[0][0]                      \n__________________________________________________________________________________________________\nbatch_normalization_29 (BatchNo (None, 8, 8, 512)    2048        add_8[0][0]                      \n__________________________________________________________________________________________________\nactivation_28 (Activation)      (None, 8, 8, 512)    0           batch_normalization_29[0][0]     \n__________________________________________________________________________________________________\nconv2d_31 (Conv2D)              (None, 8, 8, 128)    65536       activation_28[0][0]              \n__________________________________________________________________________________________________\nbatch_normalization_30 (BatchNo (None, 8, 8, 128)    512         conv2d_31[0][0]                  \n__________________________________________________________________________________________________\nactivation_29 (Activation)      (None, 8, 8, 128)    0           batch_normalization_30[0][0]     \n__________________________________________________________________________________________________\nconv2d_32 (Conv2D)              (None, 8, 8, 128)    147456      activation_29[0][0]              \n__________________________________________________________________________________________________\nbatch_normalization_31 (BatchNo (None, 8, 8, 128)    512         conv2d_32[0][0]                  \n__________________________________________________________________________________________________\nactivation_30 (Activation)      (None, 8, 8, 128)    0           batch_normalization_31[0][0]     \n__________________________________________________________________________________________________\nconv2d_33 (Conv2D)              (None, 8, 8, 512)    65536       activation_30[0][0]              \n__________________________________________________________________________________________________\nadd_9 (Add)                     (None, 8, 8, 512)    0           conv2d_33[0][0]                  \n                                                                 add_8[0][0]                      \n__________________________________________________________________________________________________\nbatch_normalization_32 (BatchNo (None, 8, 8, 512)    2048        add_9[0][0]                      \n__________________________________________________________________________________________________\nactivation_31 (Activation)      (None, 8, 8, 512)    0           batch_normalization_32[0][0]     \n__________________________________________________________________________________________________\nconv2d_34 (Conv2D)              (None, 8, 8, 128)    65536       activation_31[0][0]              \n__________________________________________________________________________________________________\nbatch_normalization_33 (BatchNo (None, 8, 8, 128)    512         conv2d_34[0][0]                  \n__________________________________________________________________________________________________\nactivation_32 (Activation)      (None, 8, 8, 128)    0           batch_normalization_33[0][0]     \n__________________________________________________________________________________________________\nconv2d_35 (Conv2D)              (None, 8, 8, 128)    147456      activation_32[0][0]              \n__________________________________________________________________________________________________\nbatch_normalization_34 (BatchNo (None, 8, 8, 128)    512         conv2d_35[0][0]                  \n__________________________________________________________________________________________________\nactivation_33 (Activation)      (None, 8, 8, 128)    0           batch_normalization_34[0][0]     \n__________________________________________________________________________________________________\nconv2d_36 (Conv2D)              (None, 8, 8, 512)    65536       activation_33[0][0]              \n__________________________________________________________________________________________________\nadd_10 (Add)                    (None, 8, 8, 512)    0           conv2d_36[0][0]                  \n                                                                 add_9[0][0]                      \n__________________________________________________________________________________________________\nbatch_normalization_35 (BatchNo (None, 8, 8, 512)    2048        add_10[0][0]                     \n__________________________________________________________________________________________________\nactivation_34 (Activation)      (None, 8, 8, 512)    0           batch_normalization_35[0][0]     \n__________________________________________________________________________________________________\nconv2d_37 (Conv2D)              (None, 8, 8, 128)    65536       activation_34[0][0]              \n__________________________________________________________________________________________________\nbatch_normalization_36 (BatchNo (None, 8, 8, 128)    512         conv2d_37[0][0]                  \n__________________________________________________________________________________________________\nactivation_35 (Activation)      (None, 8, 8, 128)    0           batch_normalization_36[0][0]     \n__________________________________________________________________________________________________\nconv2d_38 (Conv2D)              (None, 8, 8, 128)    147456      activation_35[0][0]              \n__________________________________________________________________________________________________\nbatch_normalization_37 (BatchNo (None, 8, 8, 128)    512         conv2d_38[0][0]                  \n__________________________________________________________________________________________________\nactivation_36 (Activation)      (None, 8, 8, 128)    0           batch_normalization_37[0][0]     \n__________________________________________________________________________________________________\nconv2d_39 (Conv2D)              (None, 8, 8, 512)    65536       activation_36[0][0]              \n__________________________________________________________________________________________________\nadd_11 (Add)                    (None, 8, 8, 512)    0           conv2d_39[0][0]                  \n                                                                 add_10[0][0]                     \n__________________________________________________________________________________________________\nbatch_normalization_38 (BatchNo (None, 8, 8, 512)    2048        add_11[0][0]                     \n__________________________________________________________________________________________________\nactivation_37 (Activation)      (None, 8, 8, 512)    0           batch_normalization_38[0][0]     \n__________________________________________________________________________________________________\nconv2d_40 (Conv2D)              (None, 8, 8, 128)    65536       activation_37[0][0]              \n__________________________________________________________________________________________________\nbatch_normalization_39 (BatchNo (None, 8, 8, 128)    512         conv2d_40[0][0]                  \n__________________________________________________________________________________________________\nactivation_38 (Activation)      (None, 8, 8, 128)    0           batch_normalization_39[0][0]     \n__________________________________________________________________________________________________\nconv2d_41 (Conv2D)              (None, 8, 8, 128)    147456      activation_38[0][0]              \n__________________________________________________________________________________________________\nbatch_normalization_40 (BatchNo (None, 8, 8, 128)    512         conv2d_41[0][0]                  \n__________________________________________________________________________________________________\nactivation_39 (Activation)      (None, 8, 8, 128)    0           batch_normalization_40[0][0]     \n__________________________________________________________________________________________________\nconv2d_42 (Conv2D)              (None, 8, 8, 512)    65536       activation_39[0][0]              \n__________________________________________________________________________________________________\nadd_12 (Add)                    (None, 8, 8, 512)    0           conv2d_42[0][0]                  \n                                                                 add_11[0][0]                     \n__________________________________________________________________________________________________\nbatch_normalization_41 (BatchNo (None, 8, 8, 512)    2048        add_12[0][0]                     \n__________________________________________________________________________________________________\nactivation_40 (Activation)      (None, 8, 8, 512)    0           batch_normalization_41[0][0]     \n__________________________________________________________________________________________________\naverage_pooling2d (AveragePooli (None, 1, 1, 512)    0           activation_40[0][0]              \n__________________________________________________________________________________________________\nflatten (Flatten)               (None, 512)          0           average_pooling2d[0][0]          \n==================================================================================================\nTotal params: 2,163,148\nTrainable params: 2,149,446\nNon-trainable params: 13,702\n__________________________________________________________________________________________________\nNone\n"
     ]
    }
   ],
   "source": [
    "model_saved = tf.keras.models.load_model('model/saved_models/ResNet_Category4_model.h5')\n",
    "model= Model(inputs=model_saved.input, outputs=model_saved.layers[-3].output)\n",
    "\n",
    "print(model.summary())"
   ]
  },
  {
   "cell_type": "code",
   "execution_count": 11,
   "metadata": {},
   "outputs": [
    {
     "output_type": "stream",
     "name": "stdout",
     "text": [
      "[INFO] evaluating after initialization...\n",
      "(395, 512)\n"
     ]
    }
   ],
   "source": [
    "print(\"[INFO] evaluating after initialization...\")\n",
    "predTest = model.predict(testGen, steps=(totalTest // BS) + 1)\n",
    "\n",
    "print(predTest.shape)\n",
    "np.savetxt('point-4_resnet_test_features.csv', predTest, delimiter=',')"
   ]
  },
  {
   "cell_type": "code",
   "execution_count": 12,
   "metadata": {},
   "outputs": [
    {
     "output_type": "stream",
     "name": "stdout",
     "text": [
      "[INFO] evaluating after initialization...\n",
      "(203, 512)\n"
     ]
    }
   ],
   "source": [
    "print(\"[INFO] evaluating after initialization...\")\n",
    "predVal = model.predict(valGen, steps=(totalVal // BS) + 1)\n",
    "\n",
    "print(predVal.shape)\n",
    "np.savetxt('point-4_resnet_val_features.csv', predVal, delimiter=',')"
   ]
  },
  {
   "cell_type": "code",
   "execution_count": null,
   "metadata": {},
   "outputs": [],
   "source": []
  }
 ]
}