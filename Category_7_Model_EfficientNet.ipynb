{
 "metadata": {
  "language_info": {
   "codemirror_mode": {
    "name": "ipython",
    "version": 3
   },
   "file_extension": ".py",
   "mimetype": "text/x-python",
   "name": "python",
   "nbconvert_exporter": "python",
   "pygments_lexer": "ipython3",
   "version": "3.8.2-final"
  },
  "orig_nbformat": 2,
  "kernelspec": {
   "name": "python38364bitbaseconda26b5453f368d4a76a71f4787d8a80f55",
   "display_name": "Python 3.8.3 64-bit ('base': conda)",
   "language": "python"
  }
 },
 "nbformat": 4,
 "nbformat_minor": 2,
 "cells": [
  {
   "cell_type": "code",
   "execution_count": 1,
   "metadata": {},
   "outputs": [],
   "source": [
    "import tensorflow as tf\n",
    "from tensorflow.keras.preprocessing.image import ImageDataGenerator\n",
    "from tensorflow.keras.callbacks import LearningRateScheduler\n",
    "from tensorflow.keras.optimizers import SGD\n",
    "from model.resnet import ResNet\n",
    "from utils.data_config import Config_Cat_7\n",
    "from sklearn.metrics import classification_report\n",
    "from imutils import paths\n",
    "import matplotlib.pyplot as plt\n",
    "import numpy as np\n",
    "import argparse\n",
    "from tensorflow.keras.optimizers import SGD, RMSprop\n",
    "import efficientnet.tfkeras as efn \n",
    "from tensorflow.keras import models\n",
    "from tensorflow.keras.layers import Dense, Flatten, Dropout\n",
    "from tensorflow.keras.layers import GlobalAveragePooling2D\n",
    "from tensorflow.keras.models import Sequential, Model\n",
    "\n",
    "data_config = Config_Cat_7()"
   ]
  },
  {
   "cell_type": "code",
   "execution_count": 2,
   "metadata": {},
   "outputs": [
    {
     "output_type": "stream",
     "name": "stdout",
     "text": [
      "Name: /physical_device:GPU:0   Type: GPU\n"
     ]
    }
   ],
   "source": [
    "physical_devices = tf.config.experimental.list_physical_devices('GPU')\n",
    "assert len(physical_devices) > 0, \"Not enough GPU hardware devices available\"\n",
    "config = tf.config.experimental.set_memory_growth(physical_devices[0], True)\n",
    "\n",
    "for gpu in physical_devices:\n",
    "    print(\"Name:\", gpu.name, \"  Type:\", gpu.device_type)"
   ]
  },
  {
   "cell_type": "code",
   "execution_count": 3,
   "metadata": {},
   "outputs": [],
   "source": [
    "# define the total number of epochs to train for along with the\n",
    "# initial learning rate and batch size\n",
    "NUM_EPOCHS = 20\n",
    "INIT_LR = 1e-1\n",
    "BS = 32"
   ]
  },
  {
   "cell_type": "code",
   "execution_count": 4,
   "metadata": {},
   "outputs": [],
   "source": [
    "def poly_decay(epoch):\n",
    "\t# initialize the maximum number of epochs, base learning rate,\n",
    "\t# and power of the polynomial\n",
    "\tmaxEpochs = NUM_EPOCHS\n",
    "\tbaseLR = INIT_LR\n",
    "\tpower = 1.0\n",
    "\n",
    "\t# compute the new learning rate based on polynomial decay\n",
    "\talpha = baseLR * (1 - (epoch / float(maxEpochs))) ** power\n",
    "\n",
    "\t# return the new learning rate\n",
    "\treturn alpha"
   ]
  },
  {
   "cell_type": "code",
   "execution_count": 5,
   "metadata": {},
   "outputs": [],
   "source": [
    "# determine the total number of image paths in training, validation,\n",
    "# and testing directories\n",
    "totalTrain = len(list(paths.list_images(data_config.training_path)))\n",
    "totalVal = len(list(paths.list_images(data_config.val_path)))\n",
    "totalTest = len(list(paths.list_images(data_config.test_path)))"
   ]
  },
  {
   "cell_type": "code",
   "execution_count": 6,
   "metadata": {},
   "outputs": [],
   "source": [
    "trainAug = ImageDataGenerator(\n",
    "\trescale=1 / 255.0,\n",
    "\trotation_range=20,\n",
    "\tzoom_range=0.05,\n",
    "\twidth_shift_range=0.05,\n",
    "\theight_shift_range=0.05,\n",
    "\tshear_range=0.05,\n",
    "\thorizontal_flip=True,\n",
    "\tfill_mode=\"nearest\")"
   ]
  },
  {
   "cell_type": "code",
   "execution_count": 7,
   "metadata": {},
   "outputs": [],
   "source": [
    "valAug = ImageDataGenerator(rescale=1 / 255.0)"
   ]
  },
  {
   "cell_type": "code",
   "execution_count": 8,
   "metadata": {},
   "outputs": [
    {
     "output_type": "stream",
     "name": "stdout",
     "text": [
      "Found 412 images belonging to 2 classes.\nFound 203 images belonging to 2 classes.\n"
     ]
    }
   ],
   "source": [
    "# initialize the training generator\n",
    "trainGen = trainAug.flow_from_directory(\n",
    "\tdata_config.training_path,\n",
    "\tclass_mode=\"binary\",\n",
    "\ttarget_size=(224, 224),\n",
    "\tcolor_mode=\"rgb\",\n",
    "\tshuffle=True,\n",
    "\tbatch_size=BS)\n",
    "\n",
    "# initialize the validation generator\n",
    "valGen = valAug.flow_from_directory(\n",
    "\tdata_config.val_path,\n",
    "\tclass_mode=\"binary\",\n",
    "\ttarget_size=(224, 224),\n",
    "\tcolor_mode=\"rgb\",\n",
    "\tshuffle=False,\n",
    "\tbatch_size=BS)"
   ]
  },
  {
   "cell_type": "code",
   "execution_count": 9,
   "metadata": {},
   "outputs": [
    {
     "output_type": "stream",
     "name": "stdout",
     "text": [
      "Found 395 images belonging to 2 classes.\n"
     ]
    }
   ],
   "source": [
    "# initialize the testing generator\n",
    "testGen = valAug.flow_from_directory(\n",
    "\tdata_config.test_path,\n",
    "\tclass_mode=\"binary\",\n",
    "\ttarget_size=(224, 224),\n",
    "\tcolor_mode=\"rgb\",\n",
    "\tshuffle=False,\n",
    "\tbatch_size=BS)"
   ]
  },
  {
   "cell_type": "code",
   "execution_count": null,
   "metadata": {},
   "outputs": [],
   "source": [
    "base_model = efn.EfficientNetB0(weights='imagenet', include_top=False, input_shape = (224,224,3))\n",
    "base_model.summary()\n",
    "x = base_model.output\n",
    "x = GlobalAveragePooling2D()(x)\n",
    "x = Dropout(0.3)(x)\n",
    "x = Dense(1, activation= 'sigmoid')(x)"
   ]
  },
  {
   "cell_type": "code",
   "execution_count": null,
   "metadata": {},
   "outputs": [],
   "source": [
    "model = models.Model(inputs=base_model.input, outputs=x)\n",
    "\n",
    "for (i, layer) in enumerate(model.layers):\n",
    "\tprint(\"[INFO] {}\\t{}\".format(i, layer.__class__.__name__))\n",
    "\t\n",
    "for layer in base_model.layers:\n",
    "    layer.trainable = False\n",
    "\n",
    "opt = RMSprop(lr=0.001)\n",
    "\n",
    "model.compile(loss=\"binary_crossentropy\", optimizer=opt, metrics=[\"accuracy\"])\n",
    "\n",
    "#define our set of callbacks and fit the model\n",
    "callbacks = [LearningRateScheduler(poly_decay)]\n",
    "\n",
    "print(\"[INFO] training head...\")\n",
    "H = model.fit_generator(\n",
    "\ttrainGen,\n",
    "\tsteps_per_epoch=totalTrain // BS,\n",
    "\tvalidation_data=valGen,\n",
    "\tvalidation_steps=totalVal // BS,\n",
    "\tepochs=NUM_EPOCHS,\n",
    "\tcallbacks=callbacks)\n"
   ]
  },
  {
   "cell_type": "code",
   "execution_count": null,
   "metadata": {},
   "outputs": [],
   "source": [
    "# reset the testing generator and then use our trained model to\n",
    "# make predictions on the data\n",
    "print(\"[INFO] evaluating after initialization...\")\n",
    "predIdxs = model.predict(testGen, steps=(totalTest // BS) + 1)\n",
    " "
   ]
  },
  {
   "cell_type": "code",
   "execution_count": null,
   "metadata": {},
   "outputs": [],
   "source": [
    "# for each image in the testing set we need to find the index of the\n",
    "# label with corresponding largest predicted probability\n",
    "predIdxs = np.where(predIdxs>0.5,1,0)\n",
    "\n",
    "# show a nicely formatted classification report\n",
    "print(classification_report(testGen.classes, predIdxs,target_names=testGen.class_indices.keys()))\n",
    "\n",
    "print(\"[INFO] serializing model...\")\n",
    "#model.save_weights('efficientNetB0_ISIC_IMG_TOP_weights.h5')\n",
    "model.save('efficientNetB0_Category7_model.h5')\n",
    "\n",
    "# plot the training loss and accuracy\n",
    "N = NUM_EPOCHS\n",
    "plt.style.use(\"ggplot\")\n",
    "plt.figure()\n",
    "plt.plot(np.arange(0, N), H.history[\"loss\"], label=\"train_loss\")\n",
    "plt.plot(np.arange(0, N), H.history[\"val_loss\"], label=\"val_loss\")\n",
    "plt.plot(np.arange(0, N), H.history[\"accuracy\"], label=\"train_accuracy\")\n",
    "plt.plot(np.arange(0, N), H.history[\"val_accuracy\"], label=\"val_accuracy\")\n",
    "plt.title(\"Training Loss and Accuracy on Dataset\")\n",
    "plt.xlabel(\"Epoch #\")\n",
    "plt.ylabel(\"Loss/Accuracy\")\n",
    "plt.legend(loc=\"lower left\")\n",
    "plt.savefig(\"plot_cat_7_effB0\")"
   ]
  },
  {
   "cell_type": "code",
   "execution_count": 10,
   "metadata": {},
   "outputs": [
    {
     "output_type": "stream",
     "name": "stdout",
     "text": [
      "Model: \"model\"\n__________________________________________________________________________________________________\nLayer (type)                    Output Shape         Param #     Connected to                     \n==================================================================================================\ninput_1 (InputLayer)            [(None, 224, 224, 3) 0                                            \n__________________________________________________________________________________________________\nstem_conv (Conv2D)              (None, 112, 112, 32) 864         input_1[0][0]                    \n__________________________________________________________________________________________________\nstem_bn (BatchNormalization)    (None, 112, 112, 32) 128         stem_conv[0][0]                  \n__________________________________________________________________________________________________\nstem_activation (Activation)    (None, 112, 112, 32) 0           stem_bn[0][0]                    \n__________________________________________________________________________________________________\nblock1a_dwconv (DepthwiseConv2D (None, 112, 112, 32) 288         stem_activation[0][0]            \n__________________________________________________________________________________________________\nblock1a_bn (BatchNormalization) (None, 112, 112, 32) 128         block1a_dwconv[0][0]             \n__________________________________________________________________________________________________\nblock1a_activation (Activation) (None, 112, 112, 32) 0           block1a_bn[0][0]                 \n__________________________________________________________________________________________________\nblock1a_se_squeeze (GlobalAvera (None, 32)           0           block1a_activation[0][0]         \n__________________________________________________________________________________________________\nblock1a_se_reshape (Reshape)    (None, 1, 1, 32)     0           block1a_se_squeeze[0][0]         \n__________________________________________________________________________________________________\nblock1a_se_reduce (Conv2D)      (None, 1, 1, 8)      264         block1a_se_reshape[0][0]         \n__________________________________________________________________________________________________\nblock1a_se_expand (Conv2D)      (None, 1, 1, 32)     288         block1a_se_reduce[0][0]          \n__________________________________________________________________________________________________\nblock1a_se_excite (Multiply)    (None, 112, 112, 32) 0           block1a_activation[0][0]         \n                                                                 block1a_se_expand[0][0]          \n__________________________________________________________________________________________________\nblock1a_project_conv (Conv2D)   (None, 112, 112, 16) 512         block1a_se_excite[0][0]          \n__________________________________________________________________________________________________\nblock1a_project_bn (BatchNormal (None, 112, 112, 16) 64          block1a_project_conv[0][0]       \n__________________________________________________________________________________________________\nblock2a_expand_conv (Conv2D)    (None, 112, 112, 96) 1536        block1a_project_bn[0][0]         \n__________________________________________________________________________________________________\nblock2a_expand_bn (BatchNormali (None, 112, 112, 96) 384         block2a_expand_conv[0][0]        \n__________________________________________________________________________________________________\nblock2a_expand_activation (Acti (None, 112, 112, 96) 0           block2a_expand_bn[0][0]          \n__________________________________________________________________________________________________\nblock2a_dwconv (DepthwiseConv2D (None, 56, 56, 96)   864         block2a_expand_activation[0][0]  \n__________________________________________________________________________________________________\nblock2a_bn (BatchNormalization) (None, 56, 56, 96)   384         block2a_dwconv[0][0]             \n__________________________________________________________________________________________________\nblock2a_activation (Activation) (None, 56, 56, 96)   0           block2a_bn[0][0]                 \n__________________________________________________________________________________________________\nblock2a_se_squeeze (GlobalAvera (None, 96)           0           block2a_activation[0][0]         \n__________________________________________________________________________________________________\nblock2a_se_reshape (Reshape)    (None, 1, 1, 96)     0           block2a_se_squeeze[0][0]         \n__________________________________________________________________________________________________\nblock2a_se_reduce (Conv2D)      (None, 1, 1, 4)      388         block2a_se_reshape[0][0]         \n__________________________________________________________________________________________________\nblock2a_se_expand (Conv2D)      (None, 1, 1, 96)     480         block2a_se_reduce[0][0]          \n__________________________________________________________________________________________________\nblock2a_se_excite (Multiply)    (None, 56, 56, 96)   0           block2a_activation[0][0]         \n                                                                 block2a_se_expand[0][0]          \n__________________________________________________________________________________________________\nblock2a_project_conv (Conv2D)   (None, 56, 56, 24)   2304        block2a_se_excite[0][0]          \n__________________________________________________________________________________________________\nblock2a_project_bn (BatchNormal (None, 56, 56, 24)   96          block2a_project_conv[0][0]       \n__________________________________________________________________________________________________\nblock2b_expand_conv (Conv2D)    (None, 56, 56, 144)  3456        block2a_project_bn[0][0]         \n__________________________________________________________________________________________________\nblock2b_expand_bn (BatchNormali (None, 56, 56, 144)  576         block2b_expand_conv[0][0]        \n__________________________________________________________________________________________________\nblock2b_expand_activation (Acti (None, 56, 56, 144)  0           block2b_expand_bn[0][0]          \n__________________________________________________________________________________________________\nblock2b_dwconv (DepthwiseConv2D (None, 56, 56, 144)  1296        block2b_expand_activation[0][0]  \n__________________________________________________________________________________________________\nblock2b_bn (BatchNormalization) (None, 56, 56, 144)  576         block2b_dwconv[0][0]             \n__________________________________________________________________________________________________\nblock2b_activation (Activation) (None, 56, 56, 144)  0           block2b_bn[0][0]                 \n__________________________________________________________________________________________________\nblock2b_se_squeeze (GlobalAvera (None, 144)          0           block2b_activation[0][0]         \n__________________________________________________________________________________________________\nblock2b_se_reshape (Reshape)    (None, 1, 1, 144)    0           block2b_se_squeeze[0][0]         \n__________________________________________________________________________________________________\nblock2b_se_reduce (Conv2D)      (None, 1, 1, 6)      870         block2b_se_reshape[0][0]         \n__________________________________________________________________________________________________\nblock2b_se_expand (Conv2D)      (None, 1, 1, 144)    1008        block2b_se_reduce[0][0]          \n__________________________________________________________________________________________________\nblock2b_se_excite (Multiply)    (None, 56, 56, 144)  0           block2b_activation[0][0]         \n                                                                 block2b_se_expand[0][0]          \n__________________________________________________________________________________________________\nblock2b_project_conv (Conv2D)   (None, 56, 56, 24)   3456        block2b_se_excite[0][0]          \n__________________________________________________________________________________________________\nblock2b_project_bn (BatchNormal (None, 56, 56, 24)   96          block2b_project_conv[0][0]       \n__________________________________________________________________________________________________\nblock2b_drop (FixedDropout)     (None, 56, 56, 24)   0           block2b_project_bn[0][0]         \n__________________________________________________________________________________________________\nblock2b_add (Add)               (None, 56, 56, 24)   0           block2b_drop[0][0]               \n                                                                 block2a_project_bn[0][0]         \n__________________________________________________________________________________________________\nblock3a_expand_conv (Conv2D)    (None, 56, 56, 144)  3456        block2b_add[0][0]                \n__________________________________________________________________________________________________\nblock3a_expand_bn (BatchNormali (None, 56, 56, 144)  576         block3a_expand_conv[0][0]        \n__________________________________________________________________________________________________\nblock3a_expand_activation (Acti (None, 56, 56, 144)  0           block3a_expand_bn[0][0]          \n__________________________________________________________________________________________________\nblock3a_dwconv (DepthwiseConv2D (None, 28, 28, 144)  3600        block3a_expand_activation[0][0]  \n__________________________________________________________________________________________________\nblock3a_bn (BatchNormalization) (None, 28, 28, 144)  576         block3a_dwconv[0][0]             \n__________________________________________________________________________________________________\nblock3a_activation (Activation) (None, 28, 28, 144)  0           block3a_bn[0][0]                 \n__________________________________________________________________________________________________\nblock3a_se_squeeze (GlobalAvera (None, 144)          0           block3a_activation[0][0]         \n__________________________________________________________________________________________________\nblock3a_se_reshape (Reshape)    (None, 1, 1, 144)    0           block3a_se_squeeze[0][0]         \n__________________________________________________________________________________________________\nblock3a_se_reduce (Conv2D)      (None, 1, 1, 6)      870         block3a_se_reshape[0][0]         \n__________________________________________________________________________________________________\nblock3a_se_expand (Conv2D)      (None, 1, 1, 144)    1008        block3a_se_reduce[0][0]          \n__________________________________________________________________________________________________\nblock3a_se_excite (Multiply)    (None, 28, 28, 144)  0           block3a_activation[0][0]         \n                                                                 block3a_se_expand[0][0]          \n__________________________________________________________________________________________________\nblock3a_project_conv (Conv2D)   (None, 28, 28, 40)   5760        block3a_se_excite[0][0]          \n__________________________________________________________________________________________________\nblock3a_project_bn (BatchNormal (None, 28, 28, 40)   160         block3a_project_conv[0][0]       \n__________________________________________________________________________________________________\nblock3b_expand_conv (Conv2D)    (None, 28, 28, 240)  9600        block3a_project_bn[0][0]         \n__________________________________________________________________________________________________\nblock3b_expand_bn (BatchNormali (None, 28, 28, 240)  960         block3b_expand_conv[0][0]        \n__________________________________________________________________________________________________\nblock3b_expand_activation (Acti (None, 28, 28, 240)  0           block3b_expand_bn[0][0]          \n__________________________________________________________________________________________________\nblock3b_dwconv (DepthwiseConv2D (None, 28, 28, 240)  6000        block3b_expand_activation[0][0]  \n__________________________________________________________________________________________________\nblock3b_bn (BatchNormalization) (None, 28, 28, 240)  960         block3b_dwconv[0][0]             \n__________________________________________________________________________________________________\nblock3b_activation (Activation) (None, 28, 28, 240)  0           block3b_bn[0][0]                 \n__________________________________________________________________________________________________\nblock3b_se_squeeze (GlobalAvera (None, 240)          0           block3b_activation[0][0]         \n__________________________________________________________________________________________________\nblock3b_se_reshape (Reshape)    (None, 1, 1, 240)    0           block3b_se_squeeze[0][0]         \n__________________________________________________________________________________________________\nblock3b_se_reduce (Conv2D)      (None, 1, 1, 10)     2410        block3b_se_reshape[0][0]         \n__________________________________________________________________________________________________\nblock3b_se_expand (Conv2D)      (None, 1, 1, 240)    2640        block3b_se_reduce[0][0]          \n__________________________________________________________________________________________________\nblock3b_se_excite (Multiply)    (None, 28, 28, 240)  0           block3b_activation[0][0]         \n                                                                 block3b_se_expand[0][0]          \n__________________________________________________________________________________________________\nblock3b_project_conv (Conv2D)   (None, 28, 28, 40)   9600        block3b_se_excite[0][0]          \n__________________________________________________________________________________________________\nblock3b_project_bn (BatchNormal (None, 28, 28, 40)   160         block3b_project_conv[0][0]       \n__________________________________________________________________________________________________\nblock3b_drop (FixedDropout)     (None, 28, 28, 40)   0           block3b_project_bn[0][0]         \n__________________________________________________________________________________________________\nblock3b_add (Add)               (None, 28, 28, 40)   0           block3b_drop[0][0]               \n                                                                 block3a_project_bn[0][0]         \n__________________________________________________________________________________________________\nblock4a_expand_conv (Conv2D)    (None, 28, 28, 240)  9600        block3b_add[0][0]                \n__________________________________________________________________________________________________\nblock4a_expand_bn (BatchNormali (None, 28, 28, 240)  960         block4a_expand_conv[0][0]        \n__________________________________________________________________________________________________\nblock4a_expand_activation (Acti (None, 28, 28, 240)  0           block4a_expand_bn[0][0]          \n__________________________________________________________________________________________________\nblock4a_dwconv (DepthwiseConv2D (None, 14, 14, 240)  2160        block4a_expand_activation[0][0]  \n__________________________________________________________________________________________________\nblock4a_bn (BatchNormalization) (None, 14, 14, 240)  960         block4a_dwconv[0][0]             \n__________________________________________________________________________________________________\nblock4a_activation (Activation) (None, 14, 14, 240)  0           block4a_bn[0][0]                 \n__________________________________________________________________________________________________\nblock4a_se_squeeze (GlobalAvera (None, 240)          0           block4a_activation[0][0]         \n__________________________________________________________________________________________________\nblock4a_se_reshape (Reshape)    (None, 1, 1, 240)    0           block4a_se_squeeze[0][0]         \n__________________________________________________________________________________________________\nblock4a_se_reduce (Conv2D)      (None, 1, 1, 10)     2410        block4a_se_reshape[0][0]         \n__________________________________________________________________________________________________\nblock4a_se_expand (Conv2D)      (None, 1, 1, 240)    2640        block4a_se_reduce[0][0]          \n__________________________________________________________________________________________________\nblock4a_se_excite (Multiply)    (None, 14, 14, 240)  0           block4a_activation[0][0]         \n                                                                 block4a_se_expand[0][0]          \n__________________________________________________________________________________________________\nblock4a_project_conv (Conv2D)   (None, 14, 14, 80)   19200       block4a_se_excite[0][0]          \n__________________________________________________________________________________________________\nblock4a_project_bn (BatchNormal (None, 14, 14, 80)   320         block4a_project_conv[0][0]       \n__________________________________________________________________________________________________\nblock4b_expand_conv (Conv2D)    (None, 14, 14, 480)  38400       block4a_project_bn[0][0]         \n__________________________________________________________________________________________________\nblock4b_expand_bn (BatchNormali (None, 14, 14, 480)  1920        block4b_expand_conv[0][0]        \n__________________________________________________________________________________________________\nblock4b_expand_activation (Acti (None, 14, 14, 480)  0           block4b_expand_bn[0][0]          \n__________________________________________________________________________________________________\nblock4b_dwconv (DepthwiseConv2D (None, 14, 14, 480)  4320        block4b_expand_activation[0][0]  \n__________________________________________________________________________________________________\nblock4b_bn (BatchNormalization) (None, 14, 14, 480)  1920        block4b_dwconv[0][0]             \n__________________________________________________________________________________________________\nblock4b_activation (Activation) (None, 14, 14, 480)  0           block4b_bn[0][0]                 \n__________________________________________________________________________________________________\nblock4b_se_squeeze (GlobalAvera (None, 480)          0           block4b_activation[0][0]         \n__________________________________________________________________________________________________\nblock4b_se_reshape (Reshape)    (None, 1, 1, 480)    0           block4b_se_squeeze[0][0]         \n__________________________________________________________________________________________________\nblock4b_se_reduce (Conv2D)      (None, 1, 1, 20)     9620        block4b_se_reshape[0][0]         \n__________________________________________________________________________________________________\nblock4b_se_expand (Conv2D)      (None, 1, 1, 480)    10080       block4b_se_reduce[0][0]          \n__________________________________________________________________________________________________\nblock4b_se_excite (Multiply)    (None, 14, 14, 480)  0           block4b_activation[0][0]         \n                                                                 block4b_se_expand[0][0]          \n__________________________________________________________________________________________________\nblock4b_project_conv (Conv2D)   (None, 14, 14, 80)   38400       block4b_se_excite[0][0]          \n__________________________________________________________________________________________________\nblock4b_project_bn (BatchNormal (None, 14, 14, 80)   320         block4b_project_conv[0][0]       \n__________________________________________________________________________________________________\nblock4b_drop (FixedDropout)     (None, 14, 14, 80)   0           block4b_project_bn[0][0]         \n__________________________________________________________________________________________________\nblock4b_add (Add)               (None, 14, 14, 80)   0           block4b_drop[0][0]               \n                                                                 block4a_project_bn[0][0]         \n__________________________________________________________________________________________________\nblock4c_expand_conv (Conv2D)    (None, 14, 14, 480)  38400       block4b_add[0][0]                \n__________________________________________________________________________________________________\nblock4c_expand_bn (BatchNormali (None, 14, 14, 480)  1920        block4c_expand_conv[0][0]        \n__________________________________________________________________________________________________\nblock4c_expand_activation (Acti (None, 14, 14, 480)  0           block4c_expand_bn[0][0]          \n__________________________________________________________________________________________________\nblock4c_dwconv (DepthwiseConv2D (None, 14, 14, 480)  4320        block4c_expand_activation[0][0]  \n__________________________________________________________________________________________________\nblock4c_bn (BatchNormalization) (None, 14, 14, 480)  1920        block4c_dwconv[0][0]             \n__________________________________________________________________________________________________\nblock4c_activation (Activation) (None, 14, 14, 480)  0           block4c_bn[0][0]                 \n__________________________________________________________________________________________________\nblock4c_se_squeeze (GlobalAvera (None, 480)          0           block4c_activation[0][0]         \n__________________________________________________________________________________________________\nblock4c_se_reshape (Reshape)    (None, 1, 1, 480)    0           block4c_se_squeeze[0][0]         \n__________________________________________________________________________________________________\nblock4c_se_reduce (Conv2D)      (None, 1, 1, 20)     9620        block4c_se_reshape[0][0]         \n__________________________________________________________________________________________________\nblock4c_se_expand (Conv2D)      (None, 1, 1, 480)    10080       block4c_se_reduce[0][0]          \n__________________________________________________________________________________________________\nblock4c_se_excite (Multiply)    (None, 14, 14, 480)  0           block4c_activation[0][0]         \n                                                                 block4c_se_expand[0][0]          \n__________________________________________________________________________________________________\nblock4c_project_conv (Conv2D)   (None, 14, 14, 80)   38400       block4c_se_excite[0][0]          \n__________________________________________________________________________________________________\nblock4c_project_bn (BatchNormal (None, 14, 14, 80)   320         block4c_project_conv[0][0]       \n__________________________________________________________________________________________________\nblock4c_drop (FixedDropout)     (None, 14, 14, 80)   0           block4c_project_bn[0][0]         \n__________________________________________________________________________________________________\nblock4c_add (Add)               (None, 14, 14, 80)   0           block4c_drop[0][0]               \n                                                                 block4b_add[0][0]                \n__________________________________________________________________________________________________\nblock5a_expand_conv (Conv2D)    (None, 14, 14, 480)  38400       block4c_add[0][0]                \n__________________________________________________________________________________________________\nblock5a_expand_bn (BatchNormali (None, 14, 14, 480)  1920        block5a_expand_conv[0][0]        \n__________________________________________________________________________________________________\nblock5a_expand_activation (Acti (None, 14, 14, 480)  0           block5a_expand_bn[0][0]          \n__________________________________________________________________________________________________\nblock5a_dwconv (DepthwiseConv2D (None, 14, 14, 480)  12000       block5a_expand_activation[0][0]  \n__________________________________________________________________________________________________\nblock5a_bn (BatchNormalization) (None, 14, 14, 480)  1920        block5a_dwconv[0][0]             \n__________________________________________________________________________________________________\nblock5a_activation (Activation) (None, 14, 14, 480)  0           block5a_bn[0][0]                 \n__________________________________________________________________________________________________\nblock5a_se_squeeze (GlobalAvera (None, 480)          0           block5a_activation[0][0]         \n__________________________________________________________________________________________________\nblock5a_se_reshape (Reshape)    (None, 1, 1, 480)    0           block5a_se_squeeze[0][0]         \n__________________________________________________________________________________________________\nblock5a_se_reduce (Conv2D)      (None, 1, 1, 20)     9620        block5a_se_reshape[0][0]         \n__________________________________________________________________________________________________\nblock5a_se_expand (Conv2D)      (None, 1, 1, 480)    10080       block5a_se_reduce[0][0]          \n__________________________________________________________________________________________________\nblock5a_se_excite (Multiply)    (None, 14, 14, 480)  0           block5a_activation[0][0]         \n                                                                 block5a_se_expand[0][0]          \n__________________________________________________________________________________________________\nblock5a_project_conv (Conv2D)   (None, 14, 14, 112)  53760       block5a_se_excite[0][0]          \n__________________________________________________________________________________________________\nblock5a_project_bn (BatchNormal (None, 14, 14, 112)  448         block5a_project_conv[0][0]       \n__________________________________________________________________________________________________\nblock5b_expand_conv (Conv2D)    (None, 14, 14, 672)  75264       block5a_project_bn[0][0]         \n__________________________________________________________________________________________________\nblock5b_expand_bn (BatchNormali (None, 14, 14, 672)  2688        block5b_expand_conv[0][0]        \n__________________________________________________________________________________________________\nblock5b_expand_activation (Acti (None, 14, 14, 672)  0           block5b_expand_bn[0][0]          \n__________________________________________________________________________________________________\nblock5b_dwconv (DepthwiseConv2D (None, 14, 14, 672)  16800       block5b_expand_activation[0][0]  \n__________________________________________________________________________________________________\nblock5b_bn (BatchNormalization) (None, 14, 14, 672)  2688        block5b_dwconv[0][0]             \n__________________________________________________________________________________________________\nblock5b_activation (Activation) (None, 14, 14, 672)  0           block5b_bn[0][0]                 \n__________________________________________________________________________________________________\nblock5b_se_squeeze (GlobalAvera (None, 672)          0           block5b_activation[0][0]         \n__________________________________________________________________________________________________\nblock5b_se_reshape (Reshape)    (None, 1, 1, 672)    0           block5b_se_squeeze[0][0]         \n__________________________________________________________________________________________________\nblock5b_se_reduce (Conv2D)      (None, 1, 1, 28)     18844       block5b_se_reshape[0][0]         \n__________________________________________________________________________________________________\nblock5b_se_expand (Conv2D)      (None, 1, 1, 672)    19488       block5b_se_reduce[0][0]          \n__________________________________________________________________________________________________\nblock5b_se_excite (Multiply)    (None, 14, 14, 672)  0           block5b_activation[0][0]         \n                                                                 block5b_se_expand[0][0]          \n__________________________________________________________________________________________________\nblock5b_project_conv (Conv2D)   (None, 14, 14, 112)  75264       block5b_se_excite[0][0]          \n__________________________________________________________________________________________________\nblock5b_project_bn (BatchNormal (None, 14, 14, 112)  448         block5b_project_conv[0][0]       \n__________________________________________________________________________________________________\nblock5b_drop (FixedDropout)     (None, 14, 14, 112)  0           block5b_project_bn[0][0]         \n__________________________________________________________________________________________________\nblock5b_add (Add)               (None, 14, 14, 112)  0           block5b_drop[0][0]               \n                                                                 block5a_project_bn[0][0]         \n__________________________________________________________________________________________________\nblock5c_expand_conv (Conv2D)    (None, 14, 14, 672)  75264       block5b_add[0][0]                \n__________________________________________________________________________________________________\nblock5c_expand_bn (BatchNormali (None, 14, 14, 672)  2688        block5c_expand_conv[0][0]        \n__________________________________________________________________________________________________\nblock5c_expand_activation (Acti (None, 14, 14, 672)  0           block5c_expand_bn[0][0]          \n__________________________________________________________________________________________________\nblock5c_dwconv (DepthwiseConv2D (None, 14, 14, 672)  16800       block5c_expand_activation[0][0]  \n__________________________________________________________________________________________________\nblock5c_bn (BatchNormalization) (None, 14, 14, 672)  2688        block5c_dwconv[0][0]             \n__________________________________________________________________________________________________\nblock5c_activation (Activation) (None, 14, 14, 672)  0           block5c_bn[0][0]                 \n__________________________________________________________________________________________________\nblock5c_se_squeeze (GlobalAvera (None, 672)          0           block5c_activation[0][0]         \n__________________________________________________________________________________________________\nblock5c_se_reshape (Reshape)    (None, 1, 1, 672)    0           block5c_se_squeeze[0][0]         \n__________________________________________________________________________________________________\nblock5c_se_reduce (Conv2D)      (None, 1, 1, 28)     18844       block5c_se_reshape[0][0]         \n__________________________________________________________________________________________________\nblock5c_se_expand (Conv2D)      (None, 1, 1, 672)    19488       block5c_se_reduce[0][0]          \n__________________________________________________________________________________________________\nblock5c_se_excite (Multiply)    (None, 14, 14, 672)  0           block5c_activation[0][0]         \n                                                                 block5c_se_expand[0][0]          \n__________________________________________________________________________________________________\nblock5c_project_conv (Conv2D)   (None, 14, 14, 112)  75264       block5c_se_excite[0][0]          \n__________________________________________________________________________________________________\nblock5c_project_bn (BatchNormal (None, 14, 14, 112)  448         block5c_project_conv[0][0]       \n__________________________________________________________________________________________________\nblock5c_drop (FixedDropout)     (None, 14, 14, 112)  0           block5c_project_bn[0][0]         \n__________________________________________________________________________________________________\nblock5c_add (Add)               (None, 14, 14, 112)  0           block5c_drop[0][0]               \n                                                                 block5b_add[0][0]                \n__________________________________________________________________________________________________\nblock6a_expand_conv (Conv2D)    (None, 14, 14, 672)  75264       block5c_add[0][0]                \n__________________________________________________________________________________________________\nblock6a_expand_bn (BatchNormali (None, 14, 14, 672)  2688        block6a_expand_conv[0][0]        \n__________________________________________________________________________________________________\nblock6a_expand_activation (Acti (None, 14, 14, 672)  0           block6a_expand_bn[0][0]          \n__________________________________________________________________________________________________\nblock6a_dwconv (DepthwiseConv2D (None, 7, 7, 672)    16800       block6a_expand_activation[0][0]  \n__________________________________________________________________________________________________\nblock6a_bn (BatchNormalization) (None, 7, 7, 672)    2688        block6a_dwconv[0][0]             \n__________________________________________________________________________________________________\nblock6a_activation (Activation) (None, 7, 7, 672)    0           block6a_bn[0][0]                 \n__________________________________________________________________________________________________\nblock6a_se_squeeze (GlobalAvera (None, 672)          0           block6a_activation[0][0]         \n__________________________________________________________________________________________________\nblock6a_se_reshape (Reshape)    (None, 1, 1, 672)    0           block6a_se_squeeze[0][0]         \n__________________________________________________________________________________________________\nblock6a_se_reduce (Conv2D)      (None, 1, 1, 28)     18844       block6a_se_reshape[0][0]         \n__________________________________________________________________________________________________\nblock6a_se_expand (Conv2D)      (None, 1, 1, 672)    19488       block6a_se_reduce[0][0]          \n__________________________________________________________________________________________________\nblock6a_se_excite (Multiply)    (None, 7, 7, 672)    0           block6a_activation[0][0]         \n                                                                 block6a_se_expand[0][0]          \n__________________________________________________________________________________________________\nblock6a_project_conv (Conv2D)   (None, 7, 7, 192)    129024      block6a_se_excite[0][0]          \n__________________________________________________________________________________________________\nblock6a_project_bn (BatchNormal (None, 7, 7, 192)    768         block6a_project_conv[0][0]       \n__________________________________________________________________________________________________\nblock6b_expand_conv (Conv2D)    (None, 7, 7, 1152)   221184      block6a_project_bn[0][0]         \n__________________________________________________________________________________________________\nblock6b_expand_bn (BatchNormali (None, 7, 7, 1152)   4608        block6b_expand_conv[0][0]        \n__________________________________________________________________________________________________\nblock6b_expand_activation (Acti (None, 7, 7, 1152)   0           block6b_expand_bn[0][0]          \n__________________________________________________________________________________________________\nblock6b_dwconv (DepthwiseConv2D (None, 7, 7, 1152)   28800       block6b_expand_activation[0][0]  \n__________________________________________________________________________________________________\nblock6b_bn (BatchNormalization) (None, 7, 7, 1152)   4608        block6b_dwconv[0][0]             \n__________________________________________________________________________________________________\nblock6b_activation (Activation) (None, 7, 7, 1152)   0           block6b_bn[0][0]                 \n__________________________________________________________________________________________________\nblock6b_se_squeeze (GlobalAvera (None, 1152)         0           block6b_activation[0][0]         \n__________________________________________________________________________________________________\nblock6b_se_reshape (Reshape)    (None, 1, 1, 1152)   0           block6b_se_squeeze[0][0]         \n__________________________________________________________________________________________________\nblock6b_se_reduce (Conv2D)      (None, 1, 1, 48)     55344       block6b_se_reshape[0][0]         \n__________________________________________________________________________________________________\nblock6b_se_expand (Conv2D)      (None, 1, 1, 1152)   56448       block6b_se_reduce[0][0]          \n__________________________________________________________________________________________________\nblock6b_se_excite (Multiply)    (None, 7, 7, 1152)   0           block6b_activation[0][0]         \n                                                                 block6b_se_expand[0][0]          \n__________________________________________________________________________________________________\nblock6b_project_conv (Conv2D)   (None, 7, 7, 192)    221184      block6b_se_excite[0][0]          \n__________________________________________________________________________________________________\nblock6b_project_bn (BatchNormal (None, 7, 7, 192)    768         block6b_project_conv[0][0]       \n__________________________________________________________________________________________________\nblock6b_drop (FixedDropout)     (None, 7, 7, 192)    0           block6b_project_bn[0][0]         \n__________________________________________________________________________________________________\nblock6b_add (Add)               (None, 7, 7, 192)    0           block6b_drop[0][0]               \n                                                                 block6a_project_bn[0][0]         \n__________________________________________________________________________________________________\nblock6c_expand_conv (Conv2D)    (None, 7, 7, 1152)   221184      block6b_add[0][0]                \n__________________________________________________________________________________________________\nblock6c_expand_bn (BatchNormali (None, 7, 7, 1152)   4608        block6c_expand_conv[0][0]        \n__________________________________________________________________________________________________\nblock6c_expand_activation (Acti (None, 7, 7, 1152)   0           block6c_expand_bn[0][0]          \n__________________________________________________________________________________________________\nblock6c_dwconv (DepthwiseConv2D (None, 7, 7, 1152)   28800       block6c_expand_activation[0][0]  \n__________________________________________________________________________________________________\nblock6c_bn (BatchNormalization) (None, 7, 7, 1152)   4608        block6c_dwconv[0][0]             \n__________________________________________________________________________________________________\nblock6c_activation (Activation) (None, 7, 7, 1152)   0           block6c_bn[0][0]                 \n__________________________________________________________________________________________________\nblock6c_se_squeeze (GlobalAvera (None, 1152)         0           block6c_activation[0][0]         \n__________________________________________________________________________________________________\nblock6c_se_reshape (Reshape)    (None, 1, 1, 1152)   0           block6c_se_squeeze[0][0]         \n__________________________________________________________________________________________________\nblock6c_se_reduce (Conv2D)      (None, 1, 1, 48)     55344       block6c_se_reshape[0][0]         \n__________________________________________________________________________________________________\nblock6c_se_expand (Conv2D)      (None, 1, 1, 1152)   56448       block6c_se_reduce[0][0]          \n__________________________________________________________________________________________________\nblock6c_se_excite (Multiply)    (None, 7, 7, 1152)   0           block6c_activation[0][0]         \n                                                                 block6c_se_expand[0][0]          \n__________________________________________________________________________________________________\nblock6c_project_conv (Conv2D)   (None, 7, 7, 192)    221184      block6c_se_excite[0][0]          \n__________________________________________________________________________________________________\nblock6c_project_bn (BatchNormal (None, 7, 7, 192)    768         block6c_project_conv[0][0]       \n__________________________________________________________________________________________________\nblock6c_drop (FixedDropout)     (None, 7, 7, 192)    0           block6c_project_bn[0][0]         \n__________________________________________________________________________________________________\nblock6c_add (Add)               (None, 7, 7, 192)    0           block6c_drop[0][0]               \n                                                                 block6b_add[0][0]                \n__________________________________________________________________________________________________\nblock6d_expand_conv (Conv2D)    (None, 7, 7, 1152)   221184      block6c_add[0][0]                \n__________________________________________________________________________________________________\nblock6d_expand_bn (BatchNormali (None, 7, 7, 1152)   4608        block6d_expand_conv[0][0]        \n__________________________________________________________________________________________________\nblock6d_expand_activation (Acti (None, 7, 7, 1152)   0           block6d_expand_bn[0][0]          \n__________________________________________________________________________________________________\nblock6d_dwconv (DepthwiseConv2D (None, 7, 7, 1152)   28800       block6d_expand_activation[0][0]  \n__________________________________________________________________________________________________\nblock6d_bn (BatchNormalization) (None, 7, 7, 1152)   4608        block6d_dwconv[0][0]             \n__________________________________________________________________________________________________\nblock6d_activation (Activation) (None, 7, 7, 1152)   0           block6d_bn[0][0]                 \n__________________________________________________________________________________________________\nblock6d_se_squeeze (GlobalAvera (None, 1152)         0           block6d_activation[0][0]         \n__________________________________________________________________________________________________\nblock6d_se_reshape (Reshape)    (None, 1, 1, 1152)   0           block6d_se_squeeze[0][0]         \n__________________________________________________________________________________________________\nblock6d_se_reduce (Conv2D)      (None, 1, 1, 48)     55344       block6d_se_reshape[0][0]         \n__________________________________________________________________________________________________\nblock6d_se_expand (Conv2D)      (None, 1, 1, 1152)   56448       block6d_se_reduce[0][0]          \n__________________________________________________________________________________________________\nblock6d_se_excite (Multiply)    (None, 7, 7, 1152)   0           block6d_activation[0][0]         \n                                                                 block6d_se_expand[0][0]          \n__________________________________________________________________________________________________\nblock6d_project_conv (Conv2D)   (None, 7, 7, 192)    221184      block6d_se_excite[0][0]          \n__________________________________________________________________________________________________\nblock6d_project_bn (BatchNormal (None, 7, 7, 192)    768         block6d_project_conv[0][0]       \n__________________________________________________________________________________________________\nblock6d_drop (FixedDropout)     (None, 7, 7, 192)    0           block6d_project_bn[0][0]         \n__________________________________________________________________________________________________\nblock6d_add (Add)               (None, 7, 7, 192)    0           block6d_drop[0][0]               \n                                                                 block6c_add[0][0]                \n__________________________________________________________________________________________________\nblock7a_expand_conv (Conv2D)    (None, 7, 7, 1152)   221184      block6d_add[0][0]                \n__________________________________________________________________________________________________\nblock7a_expand_bn (BatchNormali (None, 7, 7, 1152)   4608        block7a_expand_conv[0][0]        \n__________________________________________________________________________________________________\nblock7a_expand_activation (Acti (None, 7, 7, 1152)   0           block7a_expand_bn[0][0]          \n__________________________________________________________________________________________________\nblock7a_dwconv (DepthwiseConv2D (None, 7, 7, 1152)   10368       block7a_expand_activation[0][0]  \n__________________________________________________________________________________________________\nblock7a_bn (BatchNormalization) (None, 7, 7, 1152)   4608        block7a_dwconv[0][0]             \n__________________________________________________________________________________________________\nblock7a_activation (Activation) (None, 7, 7, 1152)   0           block7a_bn[0][0]                 \n__________________________________________________________________________________________________\nblock7a_se_squeeze (GlobalAvera (None, 1152)         0           block7a_activation[0][0]         \n__________________________________________________________________________________________________\nblock7a_se_reshape (Reshape)    (None, 1, 1, 1152)   0           block7a_se_squeeze[0][0]         \n__________________________________________________________________________________________________\nblock7a_se_reduce (Conv2D)      (None, 1, 1, 48)     55344       block7a_se_reshape[0][0]         \n__________________________________________________________________________________________________\nblock7a_se_expand (Conv2D)      (None, 1, 1, 1152)   56448       block7a_se_reduce[0][0]          \n__________________________________________________________________________________________________\nblock7a_se_excite (Multiply)    (None, 7, 7, 1152)   0           block7a_activation[0][0]         \n                                                                 block7a_se_expand[0][0]          \n__________________________________________________________________________________________________\nblock7a_project_conv (Conv2D)   (None, 7, 7, 320)    368640      block7a_se_excite[0][0]          \n__________________________________________________________________________________________________\nblock7a_project_bn (BatchNormal (None, 7, 7, 320)    1280        block7a_project_conv[0][0]       \n__________________________________________________________________________________________________\ntop_conv (Conv2D)               (None, 7, 7, 1280)   409600      block7a_project_bn[0][0]         \n__________________________________________________________________________________________________\ntop_bn (BatchNormalization)     (None, 7, 7, 1280)   5120        top_conv[0][0]                   \n__________________________________________________________________________________________________\ntop_activation (Activation)     (None, 7, 7, 1280)   0           top_bn[0][0]                     \n__________________________________________________________________________________________________\nglobal_average_pooling2d (Globa (None, 1280)         0           top_activation[0][0]             \n==================================================================================================\nTotal params: 4,049,564\nTrainable params: 0\nNon-trainable params: 4,049,564\n__________________________________________________________________________________________________\nNone\n"
     ]
    }
   ],
   "source": [
    "model_saved = models.load_model('model/saved_models/efficientNetB0_Category7_model.h5')\n",
    "model = Model(inputs=model_saved.input, outputs=model_saved.layers[-3].output)\n",
    "\n",
    "print(model.summary())"
   ]
  },
  {
   "cell_type": "code",
   "execution_count": 11,
   "metadata": {},
   "outputs": [
    {
     "output_type": "stream",
     "name": "stdout",
     "text": [
      "[INFO] evaluating after initialization...\n",
      "(395, 1280)\n"
     ]
    }
   ],
   "source": [
    "print(\"[INFO] evaluating after initialization...\")\n",
    "predTest = model.predict(testGen, steps=(totalTest // BS) + 1)\n",
    "\n",
    "print(predTest.shape)\n",
    "np.savetxt('point-7_effB0_test_features.csv', predTest, delimiter=',')"
   ]
  },
  {
   "cell_type": "code",
   "execution_count": 12,
   "metadata": {},
   "outputs": [
    {
     "output_type": "stream",
     "name": "stdout",
     "text": [
      "[INFO] evaluating after initialization...\n",
      "(203, 1280)\n"
     ]
    }
   ],
   "source": [
    "print(\"[INFO] evaluating after initialization...\")\n",
    "predVal = model.predict(valGen, steps=(totalVal // BS) + 1)\n",
    "\n",
    "print(predVal.shape)\n",
    "np.savetxt('point-7_effB0_val_features.csv', predVal, delimiter=',')"
   ]
  },
  {
   "cell_type": "code",
   "execution_count": null,
   "metadata": {},
   "outputs": [],
   "source": []
  }
 ]
}