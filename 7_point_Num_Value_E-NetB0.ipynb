{
 "metadata": {
  "language_info": {
   "codemirror_mode": {
    "name": "ipython",
    "version": 3
   },
   "file_extension": ".py",
   "mimetype": "text/x-python",
   "name": "python",
   "nbconvert_exporter": "python",
   "pygments_lexer": "ipython3",
   "version": "3.8.2-final"
  },
  "orig_nbformat": 2,
  "kernelspec": {
   "name": "python38364bitbaseconda26b5453f368d4a76a71f4787d8a80f55",
   "display_name": "Python 3.8.3 64-bit ('base': conda)",
   "language": "python"
  }
 },
 "nbformat": 4,
 "nbformat_minor": 2,
 "cells": [
  {
   "cell_type": "code",
   "execution_count": 1,
   "metadata": {},
   "outputs": [],
   "source": [
    "import pandas as pd\n",
    "import numpy as np\n",
    "import glob\n",
    "import shutil\n",
    "import os\n",
    "from sklearn import linear_model\n",
    "from sklearn.ensemble import RandomForestRegressor\n",
    "from sklearn.metrics import mean_squared_error, r2_score\n"
   ]
  },
  {
   "cell_type": "code",
   "execution_count": 2,
   "metadata": {},
   "outputs": [],
   "source": [
    "val_src_path = \"dataset/7-points/Validation_outputs_from_7-networks/EfficientNetB0/\"\n",
    "meta_path =  \"dataset/7-points/\""
   ]
  },
  {
   "cell_type": "code",
   "execution_count": 3,
   "metadata": {},
   "outputs": [
    {
     "output_type": "stream",
     "name": "stdout",
     "text": [
      "(203,)\n"
     ]
    }
   ],
   "source": [
    "meta_val = pd.read_csv(meta_path+\"meta.csv\", sep=\",\")\n",
    "meta_val = meta_val[['case_num','seven_point_score']]\n",
    "\n",
    "val_index_cv = pd.read_csv(meta_path+\"valid_indexes.csv\", sep=\",\")\n",
    "val_index_ = val_index_cv.values\n",
    "\n",
    "indices_val = []\n",
    "\n",
    "for i in range(val_index_.shape[0]):\n",
    "\tindices_val.append(val_index_[i,0])\n",
    "\t\t\n",
    "meta_val = meta_val.loc[indices_val]\n",
    "\n",
    "val_data = meta_val.values\n",
    "\n",
    "y_train = val_data[:,1]\n",
    "print(y_train.shape)"
   ]
  },
  {
   "cell_type": "code",
   "execution_count": 4,
   "metadata": {},
   "outputs": [
    {
     "output_type": "stream",
     "name": "stdout",
     "text": [
      "(395,)\n"
     ]
    }
   ],
   "source": [
    "meta_test = pd.read_csv(meta_path+\"meta.csv\", sep=\",\")\n",
    "meta_test = meta_test[['case_num','seven_point_score']]\n",
    "\n",
    "test_index_cv = pd.read_csv(meta_path+\"test_indexes.csv\", sep=\",\")\n",
    "test_index_ = test_index_cv.values\n",
    "\n",
    "indices_test = []\n",
    "\n",
    "for i in range(test_index_.shape[0]):\n",
    "\tindices_test.append(test_index_[i,0])\n",
    "\t\n",
    "meta_test = meta_test.loc[indices_test]\n",
    "test_data = meta_test.values\n",
    "\n",
    "y_test = test_data[:,1]\n",
    "print(y_test.shape)\n"
   ]
  },
  {
   "cell_type": "code",
   "execution_count": 5,
   "metadata": {},
   "outputs": [
    {
     "output_type": "stream",
     "name": "stdout",
     "text": [
      "            0         0         0             0         0         0  \\\n0    0.979936  0.003878  0.009714  5.442619e-03  0.170222  0.000008   \n1    0.724930  0.427172  0.000844  1.194053e-03  0.766000  0.003263   \n2    0.184308  0.108065  0.061657  5.865786e-01  0.999924  0.000255   \n3    0.026196  0.246076  0.006312  7.986713e-04  0.020980  0.000022   \n4    0.736917  0.000022  0.005424  7.635233e-04  0.997933  0.000113   \n..        ...       ...       ...           ...       ...       ...   \n198  0.001000  0.372366  0.051195  1.728924e-03  0.959083  0.394125   \n199  0.992570  0.245412  0.881430  1.786652e-01  0.000163  0.005579   \n200  0.001768  0.000026  0.027140  1.282304e-07  0.163813  0.002966   \n201  0.994240  0.213418  0.000001  9.696010e-03  0.999909  0.004557   \n202  0.999998  0.999605  0.960350  2.637068e-01  1.000000  0.586321   \n\n                0  \n0    1.698445e-05  \n1    7.835300e-08  \n2    4.434354e-06  \n3    1.021952e-04  \n4    3.969037e-03  \n..            ...  \n198  1.101067e-01  \n199  5.227398e-03  \n200  2.718293e-02  \n201  5.764241e-01  \n202  2.755314e-01  \n\n[203 rows x 7 columns]\n(203, 7)\n"
     ]
    }
   ],
   "source": [
    "df_c1_val = pd.read_csv(val_src_path+\"point-1_effB0_val.csv\", sep=\",\", header=None)\n",
    "df_c2_val = pd.read_csv(val_src_path+\"point-2_effB0_val.csv\", sep=\",\", header=None)\n",
    "df_c3_val = pd.read_csv(val_src_path+\"point-3_effB0_val.csv\", sep=\",\", header=None)\n",
    "df_c4_val = pd.read_csv(val_src_path+\"point-4_effB0_val.csv\", sep=\",\", header=None)\n",
    "df_c5_val = pd.read_csv(val_src_path+\"point-5_effB0_val.csv\", sep=\",\", header=None)\n",
    "df_c6_val = pd.read_csv(val_src_path+\"point-6_effB0_val.csv\", sep=\",\", header=None)\n",
    "df_c7_val = pd.read_csv(val_src_path+\"point-7_effB0_val.csv\", sep=\",\", header=None)\n",
    "\n",
    "\n",
    "data_val= pd.concat([df_c1_val,df_c2_val,df_c3_val,df_c4_val,df_c5_val,df_c6_val,df_c7_val],axis = 1)\n",
    "print(data_val)\n",
    "\n",
    "X_train = data_val.values\n",
    "print(X_train.shape)"
   ]
  },
  {
   "cell_type": "code",
   "execution_count": 6,
   "metadata": {},
   "outputs": [],
   "source": [
    "test_src_path = \"dataset/7-points/Testing_outputs_from_7-networks/EfficientNetB0/\""
   ]
  },
  {
   "cell_type": "code",
   "execution_count": 7,
   "metadata": {},
   "outputs": [
    {
     "output_type": "stream",
     "name": "stdout",
     "text": [
      "            0         0         0         0         0         0         0\n0    0.977100  0.808680  0.999836  0.205885  0.931614  0.000330  0.018781\n1    0.202527  0.091241  0.010090  0.000267  0.976738  0.009388  0.000027\n2    0.025236  0.003327  0.580946  0.008537  0.099597  0.005777  0.000061\n3    0.000008  0.076711  0.202697  0.000450  0.191760  0.073412  0.001551\n4    0.000173  0.001572  0.579246  0.000281  0.969302  0.006074  0.002193\n..        ...       ...       ...       ...       ...       ...       ...\n390  1.000000  0.000044  0.003048  0.966857  1.000000  0.165953  0.755766\n391  0.887802  0.007913  0.979724  0.010357  0.999998  0.016913  0.736872\n392  0.999918  0.003478  0.303856  0.236322  0.948829  0.005298  0.461667\n393  0.999996  0.001889  0.023691  0.084172  0.999769  0.002758  0.767664\n394  1.000000  0.177046  0.003302  0.358351  0.998786  0.003038  0.283809\n\n[395 rows x 7 columns]\n(395, 7)\n"
     ]
    }
   ],
   "source": [
    "df_c1_test = pd.read_csv(test_src_path+\"point-1_effB0_test.csv\", sep=\",\", header=None)\n",
    "df_c2_test = pd.read_csv(test_src_path+\"point-2_effB0_test.csv\", sep=\",\", header=None)\n",
    "df_c3_test = pd.read_csv(test_src_path+\"point-3_effB0_test.csv\", sep=\",\", header=None)\n",
    "df_c4_test = pd.read_csv(test_src_path+\"point-4_effB0_test.csv\", sep=\",\", header=None)\n",
    "df_c5_test = pd.read_csv(test_src_path+\"point-5_effB0_test.csv\", sep=\",\", header=None)\n",
    "df_c6_test = pd.read_csv(test_src_path+\"point-6_effB0_test.csv\", sep=\",\", header=None)\n",
    "df_c7_test = pd.read_csv(test_src_path+\"point-7_effB0_test.csv\", sep=\",\", header=None)\n",
    "\n",
    "data_test= pd.concat([df_c1_test,df_c2_test,df_c3_test,df_c4_test,df_c5_test,df_c6_test,df_c7_test],axis = 1)\n",
    "print(data_test)\n",
    "\n",
    "X_test = data_test.values\n",
    "\n",
    "print(X_test.shape)\n"
   ]
  },
  {
   "cell_type": "code",
   "execution_count": null,
   "metadata": {},
   "outputs": [],
   "source": [
    "clf = RandomForestRegressor()\n",
    "clf.fit(X_train[:,:2],y_train)\n",
    "y_pred = clf.predict(X_test[:,:2])\n",
    "\n"
   ]
  },
  {
   "cell_type": "code",
   "execution_count": null,
   "metadata": {},
   "outputs": [],
   "source": [
    "# The mean squared error\n",
    "print('Mean squared error: %.2f'\n",
    "      % mean_squared_error(y_test, y_pred))"
   ]
  },
  {
   "cell_type": "code",
   "execution_count": 10,
   "metadata": {},
   "outputs": [],
   "source": [
    "lr = linear_model.LinearRegression(normalize=True)\n",
    "lr.fit(X_train,y_train)\n",
    "y_pred = lr.predict(X_test)\n"
   ]
  },
  {
   "cell_type": "code",
   "execution_count": 11,
   "metadata": {},
   "outputs": [
    {
     "output_type": "stream",
     "name": "stdout",
     "text": [
      "Coefficients: \n [-0.20311317  0.0868738   0.86379837  0.08715048  0.68292741  0.05882678\n  0.46623648]\n"
     ]
    }
   ],
   "source": [
    "print('Coefficients: \\n', lr.coef_)"
   ]
  },
  {
   "cell_type": "code",
   "execution_count": 12,
   "metadata": {},
   "outputs": [
    {
     "output_type": "stream",
     "name": "stdout",
     "text": [
      "Mean squared error: 5.39\n"
     ]
    }
   ],
   "source": [
    "# The mean squared error\n",
    "print('Mean squared error: %.2f'\n",
    "      % mean_squared_error(y_test, y_pred))"
   ]
  },
  {
   "cell_type": "code",
   "execution_count": 13,
   "metadata": {},
   "outputs": [
    {
     "output_type": "stream",
     "name": "stdout",
     "text": [
      "Coefficient of determination: -0.04\n"
     ]
    }
   ],
   "source": [
    "# The coefficient of determination: 1 is perfect prediction\n",
    "print('Coefficient of determination: %.2f'\n",
    "      % r2_score(y_test, y_pred))"
   ]
  },
  {
   "cell_type": "code",
   "execution_count": 14,
   "metadata": {},
   "outputs": [
    {
     "output_type": "stream",
     "name": "stdout",
     "text": [
      "[2.95428373 2.19902748 2.12200518 1.8736834  2.7197126  2.39524005\n 2.67005    1.70996263 2.25894079 1.86766496 2.2176245  2.17030123\n 1.67020527 2.14104855 2.23750382 2.46073378 2.10896308 2.22695361\n 1.71207074 2.17465031 2.03931108 2.11441229 2.193749   1.39881315\n 2.06764954 2.29168924 2.09007721 1.38550787 2.20625935 2.09317078\n 2.24511391 2.21758134 1.57131307 1.7136394  1.57255655 2.28195911\n 2.22204375 2.06946636 1.66608794 1.99868436 2.19428124 2.23623163\n 3.00263953 2.13248679 2.71859837 2.59880263 2.03949478 2.31245822\n 2.11752425 1.78064407 2.75828185 1.91413717 2.03777613 2.55816694\n 2.90065695 2.15316172 2.26445894 1.90109168 2.5163013  3.04697659\n 2.16385108 2.21186587 2.68883938 2.81546093 3.09467936 2.07842012\n 1.58837038 2.12771431 1.96257361 1.48389328 1.92176087 1.48776523\n 1.74673869 2.26828299 2.84938043 2.09991674 2.469898   2.21539938\n 1.69250605 3.12053115 2.18582494 2.18233638 2.47508132 2.76678876\n 1.87906893 2.38281676 2.91905237 2.44703759 2.22290209 1.86664268\n 1.87194492 2.06091499 2.42672161 2.1161115  2.48531014 2.83812683\n 1.8725379  2.061385   2.15161429 2.3349815  2.3027678  2.10831111\n 2.24721565 1.6676417  2.14820866 2.23596029 2.40173543 2.13532891\n 2.24739532 2.1292791  2.9680289  2.40722489 2.095832   2.04162271\n 2.25421252 2.13482763 2.35866144 3.12744403 2.4378523  2.32432796\n 2.32366539 2.36796979 2.02952096 2.3180545  1.97331722 2.16448534\n 2.24115396 2.11805392 2.47585986 2.42028639 2.62002051 2.21303226\n 2.18759699 2.5872775  2.42576793 2.9096156  3.41822955 2.10514645\n 2.28432904 2.30554152 2.23262974 2.25156612 2.27325961 2.99942531\n 2.28318794 3.00720293 2.24822173 2.39257997 2.60836748 2.60377018\n 1.6253875  2.60246547 2.59752756 1.88776152 2.16953552 2.88111753\n 2.01529866 2.1268873  3.0926026  3.06903762 2.08814473 3.34866496\n 2.10331525 1.43433531 2.83416891 1.91731572 2.22672505 1.53580001\n 2.00716879 2.35193702 2.0455044  2.33902142 2.03837414 2.17030311\n 2.81642523 2.03713549 2.81032311 2.04754749 2.05276218 2.15266754\n 2.11177963 2.66349031 1.83432799 2.11854534 1.95123285 2.0941761\n 2.39412507 2.27975965 2.67581049 2.04126704 2.04144158 2.14074095\n 2.12737787 2.0473931  2.12635725 2.14190977 2.1158487  3.01779831\n 2.59327784 2.02759305 2.12917708 2.92666372 2.9325155  2.11490669\n 2.04963446 2.22336283 2.04822419 2.06615549 2.44368859 2.6186195\n 1.91587996 2.06031323 1.99313308 2.06404166 2.18495631 2.21019862\n 3.10685969 2.7533573  2.02892997 1.62422971 2.88892589 2.0782619\n 2.17871157 2.21020004 3.09419663 1.71822167 2.03839127 2.12044165\n 2.59286329 2.07940825 2.58811821 1.59170304 2.15539052 2.21653545\n 2.41171096 2.34351384 2.11960139 2.76522116 2.90733412 2.04161034\n 3.06568198 2.95109101 3.11785119 2.93460344 2.05494659 2.61042944\n 2.39641315 2.57637664 1.85692706 2.83398181 2.12789676 2.00431484\n 2.16679174 3.30981364 2.26816177 2.30745259 3.03299857 3.01904289\n 2.98571436 2.12568019 2.49130848 2.82544469 3.45699961 2.64909134\n 2.19251811 2.04616887 2.12541713 1.79911378 2.17264336 1.97866341\n 2.90117138 2.17348453 2.30317622 2.10341679 2.32606327 3.02045837\n 2.78215101 2.22577702 3.04340581 2.97528856 2.46146812 2.72238633\n 2.33647103 2.23283066 2.35890204 2.5634664  3.05826511 2.51019426\n 3.02221302 2.88100809 2.33107204 2.8374687  2.89162776 2.90095208\n 3.09039141 2.35410964 1.53980126 2.91240132 2.37116219 3.19629706\n 3.4199998  2.93002056 2.89467449 2.05713393 3.10436317 2.41605482\n 2.64695034 2.4493884  2.92759803 2.97029134 2.12190946 2.50147389\n 2.35427212 2.40957285 3.05469    2.63569113 2.09746043 2.88392371\n 2.65074083 3.22234475 1.91258696 2.91509116 2.3394411  2.65669982\n 1.56650127 2.20978379 2.70741846 2.13907977 2.4189946  2.4844194\n 3.21716512 2.71279113 2.04139843 2.0166175  2.55910455 2.02985255\n 2.75892057 2.16404115 2.28756158 2.77437013 3.38491229 3.48783374\n 2.54333085 2.36245218 3.34588951 3.04751955 3.20099857 2.50183009\n 2.20040139 2.58421376 2.16374904 2.76187164 2.17535793 2.3606244\n 2.25641524 3.01270242 2.92508081 2.71397435 2.8631793  2.72494272\n 3.04036166 2.70594459 3.29592095 2.15238005 3.42051034 2.08883177\n 2.87992223 2.2031215  2.26007665 3.00595024 2.96880392 2.26325699\n 2.69903725 3.44688491 2.93473408 2.42258072 2.17426536 2.7569662\n 2.11919108 2.18302426 2.73867032 2.50977778 2.75207358 2.98272829\n 2.36463226 1.67023757 2.59033078 2.71569783 2.17463381 2.41706975\n 2.48473321 3.25091909 2.49970268 2.4215891  2.2168413 ]\n[ 0  0  0  2  0  0  1  1  1  1  0  2  3  2  2  0  2  2  0  2  0  0  1  0\n  1  0  3  2  2  0  0  0  3  5  0  2  2  3  1  2  2  2  0  1  0  0  1  1\n  0  2  2  2  0  0  0  1  0  1  0  0  5  4  3  3  4  6  4  8  5  6  5  5\n  2  5  6  4 10  5  8  4  6  0  5  5  0  6  6  4  6  0  5  6  2  1  1  2\n  0  2  1  1  0  0  0  4  3  1  0  0  2  2  1  1  1  1  1  1  1  4  2  1\n  1  0  1  1  1  0  1  0  1  0  2  0  2  0  4  0  2  0  2  0  2  1  0  2\n  0  3  0  2  1  0  1  0  3  1  0  1  2  3  0  6  1  2  0  0  5  5  4  5\n  5  3  4  5  3  2  4  6  5  6  3  4  5  4  8  4  3  4  4  6  3  4  6  5\n  6  6  1  5  3  2  2  1  2  1  0  0  0  2  0  0  4  1  0  0  4  0  0  0\n  0  0  2  0  2  0  1  2  2  0  0  0  1  1  4  0  2  4  0  0  4  1  0  4\n  3  0  0  0  2  0  0  7  1  4  4  5  3  6  4  3  4  5  5  3  8  2  4  5\n  5  3  4  5  4  7  3  0 10  7  6  7  1  0  0  0  5  3  3  1  1  0  4  7\n  1  1  5  0  1  2  2  0  0  0  0  0  0  2  0  3  0  0  1  0  0  1  2  0\n  4  0  1  1  2  4  0  1  2  0  0  2  0  0  2  2  0  0  0  3  3  1  3  3\n  2  0  3  2  0  4  4  0  0  0  0  2  2  1  0  3  3  0  1  0  2  8  4  3\n  8  6  7  7  5  4  4  6  7  5  4  9  7  7  5  8  4  7  3  0  0  0  2  0\n  1  2  3  4  0  3  9  0  1  0  2]\n"
     ]
    }
   ],
   "source": [
    "print(y_pred)\n",
    "print(y_test.round())"
   ]
  },
  {
   "cell_type": "code",
   "execution_count": 15,
   "metadata": {},
   "outputs": [
    {
     "output_type": "stream",
     "name": "stdout",
     "text": [
      "-0.03839083797640819\n"
     ]
    }
   ],
   "source": [
    "print(lr.score(X_test, y_test))"
   ]
  },
  {
   "cell_type": "code",
   "execution_count": null,
   "metadata": {},
   "outputs": [],
   "source": []
  }
 ]
}