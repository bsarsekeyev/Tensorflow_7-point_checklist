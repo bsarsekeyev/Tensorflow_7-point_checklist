{
 "metadata": {
  "language_info": {
   "codemirror_mode": {
    "name": "ipython",
    "version": 3
   },
   "file_extension": ".py",
   "mimetype": "text/x-python",
   "name": "python",
   "nbconvert_exporter": "python",
   "pygments_lexer": "ipython3",
   "version": "3.8.2-final"
  },
  "orig_nbformat": 2,
  "kernelspec": {
   "name": "python38364bitbaseconda26b5453f368d4a76a71f4787d8a80f55",
   "display_name": "Python 3.8.3 64-bit ('base': conda)",
   "language": "python"
  }
 },
 "nbformat": 4,
 "nbformat_minor": 2,
 "cells": [
  {
   "cell_type": "code",
   "execution_count": 23,
   "metadata": {},
   "outputs": [],
   "source": [
    "import pandas as pd\n",
    "import numpy as np\n",
    "import glob\n",
    "import shutil\n",
    "import os\n",
    "from sklearn import linear_model\n",
    "from sklearn.ensemble import RandomForestRegressor\n",
    "from sklearn.metrics import mean_squared_error, r2_score\n"
   ]
  },
  {
   "cell_type": "code",
   "execution_count": 2,
   "metadata": {},
   "outputs": [],
   "source": [
    "val_src_path = \"dataset/7-points/Validation_outputs_from_7-networks/ResNet/\"\n",
    "meta_path =  \"dataset/7-points/\""
   ]
  },
  {
   "cell_type": "code",
   "execution_count": 3,
   "metadata": {},
   "outputs": [
    {
     "output_type": "stream",
     "name": "stdout",
     "text": [
      "(203,)\n"
     ]
    }
   ],
   "source": [
    "meta_val = pd.read_csv(meta_path+\"meta.csv\", sep=\",\")\n",
    "meta_val = meta_val[['case_num','seven_point_score']]\n",
    "\n",
    "val_index_cv = pd.read_csv(meta_path+\"valid_indexes.csv\", sep=\",\")\n",
    "val_index_ = val_index_cv.values\n",
    "\n",
    "indices_val = []\n",
    "\n",
    "for i in range(val_index_.shape[0]):\n",
    "\tindices_val.append(val_index_[i,0])\n",
    "\t\t\n",
    "meta_val = meta_val.loc[indices_val]\n",
    "\n",
    "val_data = meta_val.values\n",
    "\n",
    "y_train = val_data[:,1]\n",
    "print(y_train.shape)"
   ]
  },
  {
   "cell_type": "code",
   "execution_count": 4,
   "metadata": {},
   "outputs": [
    {
     "output_type": "stream",
     "name": "stdout",
     "text": [
      "(395,)\n"
     ]
    }
   ],
   "source": [
    "meta_test = pd.read_csv(meta_path+\"meta.csv\", sep=\",\")\n",
    "meta_test = meta_test[['case_num','seven_point_score']]\n",
    "\n",
    "test_index_cv = pd.read_csv(meta_path+\"test_indexes.csv\", sep=\",\")\n",
    "test_index_ = test_index_cv.values\n",
    "\n",
    "indices_test = []\n",
    "\n",
    "for i in range(test_index_.shape[0]):\n",
    "\tindices_test.append(test_index_[i,0])\n",
    "\t\n",
    "meta_test = meta_test.loc[indices_test]\n",
    "test_data = meta_test.values\n",
    "\n",
    "y_test = test_data[:,1]\n",
    "print(y_test.shape)\n"
   ]
  },
  {
   "cell_type": "code",
   "execution_count": 5,
   "metadata": {},
   "outputs": [
    {
     "output_type": "stream",
     "name": "stdout",
     "text": [
      "            0         0         0         0         0         0         0\n0    0.432362  0.666658  0.141954  0.209744  0.693195  0.010871  0.003757\n1    0.920233  0.136275  0.325312  0.309242  0.707987  0.000668  0.001147\n2    0.724178  0.205099  0.544567  0.150293  0.997921  0.025812  0.181806\n3    0.400839  0.732398  0.132025  0.058257  0.575997  0.000387  0.092702\n4    0.364699  0.161369  0.301708  0.041836  0.584974  0.001467  0.001656\n..        ...       ...       ...       ...       ...       ...       ...\n198  0.242679  0.701698  0.552307  0.315513  0.908846  0.746483  0.567567\n199  0.400570  0.480921  0.731109  0.369959  0.655783  0.259466  0.123012\n200  0.781644  0.520223  0.711452  0.073355  0.405481  0.073648  0.114531\n201  0.372923  0.984050  0.912064  0.059740  0.912116  0.311719  0.356308\n202  0.987228  0.652470  0.790505  0.332091  0.935783  0.418747  0.156033\n\n[203 rows x 7 columns]\n(203, 7)\n"
     ]
    }
   ],
   "source": [
    "df_c1_val = pd.read_csv(val_src_path+\"point-1_resnet_val.csv\", sep=\",\", header=None)\n",
    "df_c2_val = pd.read_csv(val_src_path+\"point-2_resnet_val.csv\", sep=\",\", header=None)\n",
    "df_c3_val = pd.read_csv(val_src_path+\"point-3_resnet_val.csv\", sep=\",\", header=None)\n",
    "df_c4_val = pd.read_csv(val_src_path+\"point-4_resnet_val.csv\", sep=\",\", header=None)\n",
    "df_c5_val = pd.read_csv(val_src_path+\"point-5_resnet_val.csv\", sep=\",\", header=None)\n",
    "df_c6_val = pd.read_csv(val_src_path+\"point-6_resnet_val.csv\", sep=\",\", header=None)\n",
    "df_c7_val = pd.read_csv(val_src_path+\"point-7_resnet_val.csv\", sep=\",\", header=None)\n",
    "\n",
    "\n",
    "data_val= pd.concat([df_c1_val,df_c2_val,df_c3_val,df_c4_val,df_c5_val,df_c6_val,df_c7_val],axis = 1)\n",
    "print(data_val)\n",
    "\n",
    "X_train = data_val.values\n",
    "print(X_train.shape)"
   ]
  },
  {
   "cell_type": "code",
   "execution_count": 6,
   "metadata": {},
   "outputs": [],
   "source": [
    "test_src_path = \"dataset/7-points/Testing_outputs_from_7-networks/ResNet/\""
   ]
  },
  {
   "cell_type": "code",
   "execution_count": 7,
   "metadata": {},
   "outputs": [
    {
     "output_type": "stream",
     "name": "stdout",
     "text": [
      "            0         0         0         0         0         0         0\n0    0.547084  0.484218  0.353551  0.195873  0.631339  0.003510  0.004641\n1    0.388432  0.487578  0.390097  0.177172  0.784842  0.649511  0.010010\n2    0.416383  0.274295  0.233870  0.168695  0.630168  0.009333  0.000920\n3    0.543990  0.141388  0.278605  0.373949  0.575809  0.144774  0.575459\n4    0.483449  0.216684  0.204948  0.531640  0.537081  0.203656  0.001885\n..        ...       ...       ...       ...       ...       ...       ...\n390  0.802705  0.064543  0.054460  0.370033  0.817030  0.053917  0.420039\n391  0.419289  0.897610  0.062842  0.545200  0.781687  0.104631  0.624996\n392  0.916812  0.105431  0.405822  0.382364  0.941046  0.339142  0.298172\n393  0.903072  0.539841  0.640239  0.168720  0.824580  0.018672  0.172573\n394  0.739855  0.208404  0.777198  0.479502  0.966787  0.213567  0.057623\n\n[395 rows x 7 columns]\n(395, 7)\n"
     ]
    }
   ],
   "source": [
    "df_c1_test = pd.read_csv(test_src_path+\"point-1_resnet_test.csv\", sep=\",\", header=None)\n",
    "df_c2_test = pd.read_csv(test_src_path+\"point-2_resnet_test.csv\", sep=\",\", header=None)\n",
    "df_c3_test = pd.read_csv(test_src_path+\"point-3_resnet_test.csv\", sep=\",\", header=None)\n",
    "df_c4_test = pd.read_csv(test_src_path+\"point-4_resnet_test.csv\", sep=\",\", header=None)\n",
    "df_c5_test = pd.read_csv(test_src_path+\"point-5_resnet_test.csv\", sep=\",\", header=None)\n",
    "df_c6_test = pd.read_csv(test_src_path+\"point-6_resnet_test.csv\", sep=\",\", header=None)\n",
    "df_c7_test = pd.read_csv(test_src_path+\"point-7_resnet_test.csv\", sep=\",\", header=None)\n",
    "\n",
    "data_test= pd.concat([df_c1_test,df_c2_test,df_c3_test,df_c4_test,df_c5_test,df_c6_test,df_c7_test],axis = 1)\n",
    "print(data_test)\n",
    "\n",
    "X_test = data_test.values\n",
    "\n",
    "print(X_test.shape)\n"
   ]
  },
  {
   "cell_type": "code",
   "execution_count": 24,
   "metadata": {},
   "outputs": [],
   "source": [
    "clf = RandomForestRegressor()\n",
    "clf.fit(X_train[:,:2],y_train)\n",
    "y_pred = clf.predict(X_test[:,:2])\n",
    "\n"
   ]
  },
  {
   "cell_type": "code",
   "execution_count": 25,
   "metadata": {},
   "outputs": [
    {
     "output_type": "stream",
     "name": "stdout",
     "text": [
      "Mean squared error: 6.52\n"
     ]
    }
   ],
   "source": [
    "# The mean squared error\n",
    "print('Mean squared error: %.2f'\n",
    "      % mean_squared_error(y_test, y_pred))"
   ]
  },
  {
   "cell_type": "code",
   "execution_count": null,
   "metadata": {},
   "outputs": [],
   "source": [
    "lr = linear_model.LinearRegression(normalize=True)\n",
    "lr.fit(X_train[:,:2],y_train)\n",
    "y_pred = lr.predict(X_test[:,:2])\n"
   ]
  },
  {
   "cell_type": "code",
   "execution_count": 19,
   "metadata": {},
   "outputs": [
    {
     "output_type": "stream",
     "name": "stdout",
     "text": [
      "Coefficients: \n [-1.78030128  0.34550735]\n"
     ]
    }
   ],
   "source": [
    "print('Coefficients: \\n', lr.coef_)"
   ]
  },
  {
   "cell_type": "code",
   "execution_count": 20,
   "metadata": {},
   "outputs": [
    {
     "output_type": "stream",
     "name": "stdout",
     "text": [
      "Mean squared error: 5.63\n"
     ]
    }
   ],
   "source": [
    "# The mean squared error\n",
    "print('Mean squared error: %.2f'\n",
    "      % mean_squared_error(y_test, y_pred))"
   ]
  },
  {
   "cell_type": "code",
   "execution_count": 21,
   "metadata": {},
   "outputs": [
    {
     "output_type": "stream",
     "name": "stdout",
     "text": [
      "Coefficient of determination: -0.08\n"
     ]
    }
   ],
   "source": [
    "# The coefficient of determination: 1 is perfect prediction\n",
    "print('Coefficient of determination: %.2f'\n",
    "      % r2_score(y_test, y_pred))"
   ]
  },
  {
   "cell_type": "code",
   "execution_count": 17,
   "metadata": {},
   "outputs": [
    {
     "output_type": "stream",
     "name": "stdout",
     "text": [
      "[2.10778526 2.57843947 2.17673247 2.87252319 1.84765263 2.23632857\n 2.40288108 2.30715231 2.50731675 2.44024424 1.83507707 1.81624218\n 1.45334306 1.79534955 2.68794965 1.14932947 2.19958672 1.20436844\n 1.54530189 1.43987398 1.7443473  1.75429538 1.87225526 1.70117994\n 1.47757907 2.25624249 2.34208346 1.22383016 2.20186581 2.71977266\n 1.36573667 4.2771107  2.86859773 1.91305144 2.64545853 0.80163301\n 2.98936256 1.47058278 1.44133811 1.7995542  1.17004411 1.67315755\n 2.56597964 1.54839761 2.59334305 1.65092961 2.34502015 2.26384446\n 1.39742966 2.20827608 2.96789467 2.24152838 1.82706621 1.41128655\n 1.93754818 1.87289451 1.2776376  3.24720399 2.42844002 2.86542797\n 3.02174372 3.20284921 3.29552169 2.5520504  1.09962642 2.7377232\n 0.84554044 0.67985656 1.40146575 2.91619529 1.22120052 2.24368571\n 2.88088247 2.61460607 1.15008883 2.15721113 1.84319442 1.8472712\n 2.64323342 2.1497513  2.16538968 2.00925217 2.83529024 3.02514374\n 1.81003339 2.03788221 2.03617989 3.10115385 1.33525156 1.05488975\n 1.84820172 2.55581133 3.18868686 1.71535515 1.38054472 2.41543245\n 1.78540506 1.41129631 2.97453402 3.19506235 1.51551922 1.93530327\n 1.85683712 1.59644782 1.56001796 2.768281   2.17356688 2.49315758\n 2.52129161 3.31569714 3.1808848  2.3603295  3.5727348  2.94590521\n 1.58708512 3.36656792 2.6975002  2.82184829 3.2548147  2.39716818\n 2.50847999 3.85898578 3.65286241 2.80735495 1.55548564 2.48620531\n 2.76550071 3.45801953 3.41740329 3.21141139 2.570652   3.12668117\n 2.12386245 2.49665156 2.9815591  3.04227813 1.81550192 2.06393651\n 2.61734084 2.02897515 1.97977295 2.42458877 3.23481274 2.31939182\n 2.05853622 3.4944127  2.71710885 2.64522593 2.11168945 2.17735122\n 3.12034804 2.96242493 2.26415015 3.21268744 2.05897649 2.49314087\n 2.36045861 2.15399203 2.37392438 3.29373306 2.66315846 1.54400834\n 2.1002189  2.31860529 2.219862   2.45696232 1.9792131  2.73067578\n 1.42509921 2.82639369 1.74900846 1.46507225 2.07599705 3.8179441\n 1.23927561 1.07175298 1.88337137 1.38907325 1.53914311 1.32793022\n 2.20730693 1.35346077 1.19074779 2.65672669 2.16383331 3.29943365\n 2.08443976 1.9974939  1.55359075 1.4482712  3.08428341 2.00099565\n 1.59166926 1.87910336 0.98705125 2.45468053 2.25195705 3.7372315\n 3.17680298 1.49912493 0.73287567 1.4685821  2.32012056 2.42204483\n 1.55248403 3.0977503  1.5556929  2.01583124 2.22529552 0.94177586\n 1.09084581 2.56103953 1.62743229 2.02158878 2.4614018  2.31976542\n 2.65285505 2.7178305  2.36907321 1.67803397 1.2004481  1.69627651\n 1.76948123 1.70663658 2.331932   2.40141651 1.5389993  1.6995312\n 1.17542457 2.8377956  2.20711284 1.7336304  1.5221291  1.80220882\n 3.09269205 1.52516997 0.91778153 1.91480304 2.42067712 3.08075872\n 2.12647718 2.83853821 3.0313068  2.99481509 3.08339998 2.67619131\n 2.88048214 0.76849431 1.54338693 2.99664388 1.43332111 2.74084527\n 2.32333615 2.6433481  2.24499882 2.22139981 2.3376916  2.5938023\n 2.78716    2.09970028 1.60510229 1.73225256 2.22112911 1.73857048\n 0.87668732 1.89179627 0.89817418 1.21351468 0.57319084 0.97151251\n 1.11292834 2.08390423 1.35539387 2.81011592 0.84201201 2.9479587\n 1.39649701 1.20785978 3.63185505 3.65432273 1.79967628 1.76193433\n 1.05739113 1.73062333 2.42121963 3.10029513 3.71228473 3.70117191\n 3.74589824 4.27936331 3.28606454 3.90228223 4.60643065 4.0352932\n 4.03169377 3.55158416 2.36449489 3.40905383 3.44990786 3.69919824\n 3.67106122 2.14206725 2.96945592 2.50849234 2.73231906 2.45202222\n 3.66792755 2.14501541 4.18389276 3.69066323 3.37771304 1.55434721\n 2.05943552 2.30172798 4.28525926 2.9531049  1.6917421  2.44148104\n 1.30222293 2.84376784 2.0009729  2.55747714 2.76384584 3.1183288\n 3.1278548  1.47757515 3.1838025  3.81439617 3.20114805 3.95220542\n 1.78328089 3.38284705 3.76568356 3.74232582 3.01063168 1.05543001\n 3.21235597 2.33384679 2.73627228 3.24376032 3.352366   3.31440899\n 3.42492184 4.56619933 3.32867487 1.08269077 3.21566586 2.21952951\n 2.67278492 3.03481087 1.81892365 2.5067248  1.36392227 2.613924\n 3.31769734 2.73271502 2.44734469 2.55286813 1.74176871 1.96062931\n 1.65107816 2.69138942 2.85066258 3.65001256 2.28968931 2.23945929\n 2.72324893 2.89552909 3.79726739 2.30543285 2.51560392 3.15970389\n 1.61313305 2.17619425 4.02730728 3.1760489  4.05070052 3.70862569\n 2.77457339 2.45167953 4.0765985  3.26085131 3.2804946  3.27737321\n 2.37077917 1.72269608 2.30449822 1.63424083 3.43850828 1.57193089\n 1.86560752 2.84831417 2.12496094 2.30627287 2.74106936]\n[ 0  0  0  2  0  0  1  1  1  1  0  2  3  2  2  0  2  2  0  2  0  0  1  0\n  1  0  3  2  2  0  0  0  3  5  0  2  2  3  1  2  2  2  0  1  0  0  1  1\n  0  2  2  2  0  0  0  1  0  1  0  0  5  4  3  3  4  6  4  8  5  6  5  5\n  2  5  6  4 10  5  8  4  6  0  5  5  0  6  6  4  6  0  5  6  2  1  1  2\n  0  2  1  1  0  0  0  4  3  1  0  0  2  2  1  1  1  1  1  1  1  4  2  1\n  1  0  1  1  1  0  1  0  1  0  2  0  2  0  4  0  2  0  2  0  2  1  0  2\n  0  3  0  2  1  0  1  0  3  1  0  1  2  3  0  6  1  2  0  0  5  5  4  5\n  5  3  4  5  3  2  4  6  5  6  3  4  5  4  8  4  3  4  4  6  3  4  6  5\n  6  6  1  5  3  2  2  1  2  1  0  0  0  2  0  0  4  1  0  0  4  0  0  0\n  0  0  2  0  2  0  1  2  2  0  0  0  1  1  4  0  2  4  0  0  4  1  0  4\n  3  0  0  0  2  0  0  7  1  4  4  5  3  6  4  3  4  5  5  3  8  2  4  5\n  5  3  4  5  4  7  3  0 10  7  6  7  1  0  0  0  5  3  3  1  1  0  4  7\n  1  1  5  0  1  2  2  0  0  0  0  0  0  2  0  3  0  0  1  0  0  1  2  0\n  4  0  1  1  2  4  0  1  2  0  0  2  0  0  2  2  0  0  0  3  3  1  3  3\n  2  0  3  2  0  4  4  0  0  0  0  2  2  1  0  3  3  0  1  0  2  8  4  3\n  8  6  7  7  5  4  4  6  7  5  4  9  7  7  5  8  4  7  3  0  0  0  2  0\n  1  2  3  4  0  3  9  0  1  0  2]\n"
     ]
    }
   ],
   "source": [
    "print(y_pred)\n",
    "print(y_test.round())"
   ]
  },
  {
   "cell_type": "code",
   "execution_count": 18,
   "metadata": {},
   "outputs": [
    {
     "output_type": "stream",
     "name": "stdout",
     "text": [
      "-0.22214098748139333\n"
     ]
    }
   ],
   "source": [
    "print(lr.score(X_test, y_test))"
   ]
  },
  {
   "cell_type": "code",
   "execution_count": null,
   "metadata": {},
   "outputs": [],
   "source": []
  }
 ]
}